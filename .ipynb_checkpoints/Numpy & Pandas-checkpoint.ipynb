{
 "cells": [
  {
   "cell_type": "code",
   "execution_count": 2,
   "id": "65872c99-257d-4233-b30d-1e4f32b7ef99",
   "metadata": {
    "ExecuteTime": {
     "end_time": "2023-09-21T12:55:13.006414150Z",
     "start_time": "2023-09-21T12:55:12.528639206Z"
    }
   },
   "outputs": [],
   "source": [
    "import numpy as np\n",
    "import pandas as pd"
   ]
  },
  {
   "cell_type": "code",
   "execution_count": 3,
   "id": "9fae1c7d-6639-40d2-9bce-82081a866952",
   "metadata": {
    "ExecuteTime": {
     "end_time": "2023-09-21T12:55:13.670027554Z",
     "start_time": "2023-09-21T12:55:13.660063765Z"
    }
   },
   "outputs": [
    {
     "data": {
      "text/plain": [
       "array([0, 1, 2, 3, 4])"
      ]
     },
     "execution_count": 3,
     "metadata": {},
     "output_type": "execute_result"
    }
   ],
   "source": [
    "np.arange(5)"
   ]
  },
  {
   "cell_type": "code",
   "execution_count": 4,
   "id": "f747b793-6c13-428e-bbb5-2ecc3411e144",
   "metadata": {
    "ExecuteTime": {
     "end_time": "2023-09-21T12:55:14.398768412Z",
     "start_time": "2023-09-21T12:55:14.262544768Z"
    }
   },
   "outputs": [
    {
     "data": {
      "text/plain": [
       "array([0., 0., 0., 0., 0., 0., 0., 0., 0., 0.])"
      ]
     },
     "execution_count": 4,
     "metadata": {},
     "output_type": "execute_result"
    }
   ],
   "source": [
    "np.zeros(10)"
   ]
  },
  {
   "cell_type": "code",
   "execution_count": 5,
   "id": "815d83dd-a6f8-4100-8f99-12d6d15ca265",
   "metadata": {
    "ExecuteTime": {
     "end_time": "2023-09-21T12:55:14.724718083Z",
     "start_time": "2023-09-21T12:55:14.617095894Z"
    }
   },
   "outputs": [
    {
     "data": {
      "text/plain": [
       "array([ 1,  6, 11, 16, 21, 26, 31])"
      ]
     },
     "execution_count": 5,
     "metadata": {},
     "output_type": "execute_result"
    }
   ],
   "source": [
    "np.arange(1,32,5)"
   ]
  },
  {
   "cell_type": "code",
   "execution_count": 6,
   "id": "c0e865d6-76d9-4535-9bd2-664d35f5c1bf",
   "metadata": {
    "ExecuteTime": {
     "end_time": "2023-09-21T12:55:15.033254293Z",
     "start_time": "2023-09-21T12:55:14.990514023Z"
    }
   },
   "outputs": [
    {
     "data": {
      "text/plain": [
       "array([[1., 1., 1.],\n",
       "       [1., 1., 1.]])"
      ]
     },
     "execution_count": 6,
     "metadata": {},
     "output_type": "execute_result"
    }
   ],
   "source": [
    "np.ones((2,3))"
   ]
  },
  {
   "cell_type": "code",
   "execution_count": 7,
   "id": "804c59f3-042e-4968-aca7-896084e75a7e",
   "metadata": {
    "ExecuteTime": {
     "end_time": "2023-09-21T12:55:15.368210145Z",
     "start_time": "2023-09-21T12:55:15.356574557Z"
    }
   },
   "outputs": [
    {
     "data": {
      "text/plain": [
       "array([0, 0, 0, 0, 0, 0, 0, 0, 0, 0])"
      ]
     },
     "execution_count": 7,
     "metadata": {},
     "output_type": "execute_result"
    }
   ],
   "source": [
    "np.zeros(10,int)"
   ]
  },
  {
   "cell_type": "code",
   "execution_count": 8,
   "id": "69695ca9-9c8e-4b03-983c-846ba23b059c",
   "metadata": {
    "ExecuteTime": {
     "end_time": "2023-09-21T12:55:15.740517491Z",
     "start_time": "2023-09-21T12:55:15.725589525Z"
    }
   },
   "outputs": [
    {
     "data": {
      "text/plain": [
       "array([1., 1., 1., 1., 1., 1., 1., 1., 1., 1., 1., 1., 1., 1., 1., 1., 1.,\n",
       "       1., 1., 1., 1., 1., 1., 1., 1., 1., 1., 1., 1., 1., 1., 1., 1., 1.,\n",
       "       1., 1., 1., 1., 1., 1., 1., 1., 1., 1., 1., 1., 1., 1., 1., 1., 1.,\n",
       "       1., 1., 1., 1., 1., 1., 1., 1., 1., 1., 1., 1., 1., 1., 1., 1., 1.,\n",
       "       1., 1., 1., 1., 1., 1., 1., 1., 1., 1., 1., 1., 1., 1., 1., 1., 1.,\n",
       "       1., 1., 1., 1., 1., 1., 1., 1., 1., 1., 1., 1., 1., 1., 1.])"
      ]
     },
     "execution_count": 8,
     "metadata": {},
     "output_type": "execute_result"
    }
   ],
   "source": [
    "np.ones(100)"
   ]
  },
  {
   "cell_type": "code",
   "execution_count": 9,
   "id": "68c982a7-b8ba-4353-a5b8-a79e33434e23",
   "metadata": {
    "ExecuteTime": {
     "end_time": "2023-09-21T12:55:16.277436305Z",
     "start_time": "2023-09-21T12:55:16.268569790Z"
    }
   },
   "outputs": [
    {
     "data": {
      "text/plain": [
       "array([[1, 1, 1],\n",
       "       [1, 1, 1]])"
      ]
     },
     "execution_count": 9,
     "metadata": {},
     "output_type": "execute_result"
    }
   ],
   "source": [
    "np.ones((2,3),int)"
   ]
  },
  {
   "cell_type": "code",
   "execution_count": 10,
   "id": "c6b0af07-aeca-4029-b2be-15fe7618039d",
   "metadata": {
    "ExecuteTime": {
     "end_time": "2023-09-21T12:55:16.782328501Z",
     "start_time": "2023-09-21T12:55:16.770519972Z"
    }
   },
   "outputs": [
    {
     "data": {
      "text/plain": [
       "array([0. , 0.5, 1. , 1.5, 2. ])"
      ]
     },
     "execution_count": 10,
     "metadata": {},
     "output_type": "execute_result"
    }
   ],
   "source": [
    "np.linspace(0,2,5) #linearly spaced"
   ]
  },
  {
   "cell_type": "code",
   "execution_count": 11,
   "id": "96a39a16-41b7-439c-a4ba-bf914e250c23",
   "metadata": {
    "ExecuteTime": {
     "end_time": "2023-09-21T12:55:17.500853742Z",
     "start_time": "2023-09-21T12:55:17.484063402Z"
    }
   },
   "outputs": [
    {
     "data": {
      "text/plain": [
       "array([[1, 0, 0, 0, 0, 0, 0, 0, 0, 0],\n",
       "       [0, 1, 0, 0, 0, 0, 0, 0, 0, 0],\n",
       "       [0, 0, 1, 0, 0, 0, 0, 0, 0, 0],\n",
       "       [0, 0, 0, 1, 0, 0, 0, 0, 0, 0],\n",
       "       [0, 0, 0, 0, 1, 0, 0, 0, 0, 0],\n",
       "       [0, 0, 0, 0, 0, 1, 0, 0, 0, 0],\n",
       "       [0, 0, 0, 0, 0, 0, 1, 0, 0, 0],\n",
       "       [0, 0, 0, 0, 0, 0, 0, 1, 0, 0],\n",
       "       [0, 0, 0, 0, 0, 0, 0, 0, 1, 0],\n",
       "       [0, 0, 0, 0, 0, 0, 0, 0, 0, 1]])"
      ]
     },
     "execution_count": 11,
     "metadata": {},
     "output_type": "execute_result"
    }
   ],
   "source": [
    "np.eye(10, dtype = int)"
   ]
  },
  {
   "cell_type": "code",
   "execution_count": 12,
   "id": "1d127b16-f0d1-4a64-ab9d-71cea6b7ac0a",
   "metadata": {
    "ExecuteTime": {
     "end_time": "2023-09-21T12:55:18.228922564Z",
     "start_time": "2023-09-21T12:55:18.220761080Z"
    }
   },
   "outputs": [
    {
     "data": {
      "text/plain": [
       "array([[0.19735098, 0.38380411, 0.33823842, 0.0568052 , 0.66293471],\n",
       "       [0.50867841, 0.99004364, 0.21953624, 0.23868729, 0.78467429],\n",
       "       [0.52426257, 0.65175256, 0.7339739 , 0.73741379, 0.08882888]])"
      ]
     },
     "execution_count": 12,
     "metadata": {},
     "output_type": "execute_result"
    }
   ],
   "source": [
    "np.random.rand(3,5) # 0 to 1 uniform distribution"
   ]
  },
  {
   "cell_type": "code",
   "execution_count": 13,
   "id": "0053dc35-4497-441f-b9b7-a5c46039e25b",
   "metadata": {
    "ExecuteTime": {
     "end_time": "2023-09-21T12:55:18.944329719Z",
     "start_time": "2023-09-21T12:55:18.932470694Z"
    }
   },
   "outputs": [
    {
     "data": {
      "text/plain": [
       "array([[ 0.44882761, -2.03706232,  1.54749171, -0.46764327],\n",
       "       [ 0.8473828 ,  0.43036039,  0.34229412,  0.23301904]])"
      ]
     },
     "execution_count": 13,
     "metadata": {},
     "output_type": "execute_result"
    }
   ],
   "source": [
    "arr = np.random.randn(2,4)\n",
    "arr"
   ]
  },
  {
   "cell_type": "code",
   "execution_count": 14,
   "id": "2c65997a1ff7efb4",
   "metadata": {
    "ExecuteTime": {
     "end_time": "2023-09-21T12:55:19.852497779Z",
     "start_time": "2023-09-21T12:55:19.844752923Z"
    }
   },
   "outputs": [
    {
     "data": {
      "text/plain": [
       "42"
      ]
     },
     "execution_count": 14,
     "metadata": {},
     "output_type": "execute_result"
    }
   ],
   "source": [
    "np.random.randint(2,100)"
   ]
  },
  {
   "cell_type": "code",
   "execution_count": 15,
   "id": "8a94f1815cf553f7",
   "metadata": {
    "ExecuteTime": {
     "end_time": "2023-09-21T12:55:38.377586831Z",
     "start_time": "2023-09-21T12:55:38.332983178Z"
    }
   },
   "outputs": [
    {
     "data": {
      "text/plain": [
       "array([39, 43, 37, 35, 53, 48, 41, 52, 23, 32, 23, 46, 42, 33, 45, 54, 20,\n",
       "       26, 34, 34, 33, 39, 36, 23, 38, 43, 43, 49, 37, 25, 42, 25, 54, 23,\n",
       "       50, 37, 39, 27, 40, 52, 22, 46, 55, 31, 41, 53, 28, 49, 20, 34, 23,\n",
       "       27, 54, 20, 25, 40, 53, 29, 41, 23, 22, 30, 41, 54, 31, 37, 53, 29,\n",
       "       25, 55, 47, 40, 35, 21, 43, 38, 31, 20, 53, 20, 38, 46, 31, 54, 25,\n",
       "       26, 45, 49, 27, 31, 38, 23, 46, 49, 29, 41, 49, 36, 45, 48])"
      ]
     },
     "execution_count": 15,
     "metadata": {},
     "output_type": "execute_result"
    }
   ],
   "source": [
    "np.random.randint(20,56,100)"
   ]
  },
  {
   "cell_type": "code",
   "execution_count": 17,
   "id": "d1a5a78eb55cab82",
   "metadata": {
    "ExecuteTime": {
     "end_time": "2023-09-21T12:56:18.424260188Z",
     "start_time": "2023-09-21T12:56:18.410071208Z"
    }
   },
   "outputs": [
    {
     "data": {
      "text/plain": [
       "array([ 0,  1,  2,  3,  4,  5,  6,  7,  8,  9, 10, 11, 12, 13, 14, 15, 16,\n",
       "       17, 18, 19, 20, 21, 22, 23, 24, 25, 26, 27, 28, 29])"
      ]
     },
     "execution_count": 17,
     "metadata": {},
     "output_type": "execute_result"
    }
   ],
   "source": [
    "arr = np.arange(30)\n",
    "arr"
   ]
  },
  {
   "cell_type": "code",
   "execution_count": 18,
   "id": "fc19003066c7a46d",
   "metadata": {
    "ExecuteTime": {
     "end_time": "2023-09-21T12:57:19.236785369Z",
     "start_time": "2023-09-21T12:57:19.189197665Z"
    }
   },
   "outputs": [
    {
     "data": {
      "text/plain": [
       "array([89, 14, 11, 39, 34, 92, 82, 80, 95, 71, 39, 15, 11, 71, 93, 22, 72,\n",
       "       36, 28, 87])"
      ]
     },
     "execution_count": 18,
     "metadata": {},
     "output_type": "execute_result"
    }
   ],
   "source": [
    "r_arr = np.random.randint(0,100,20)\n",
    "r_arr"
   ]
  },
  {
   "cell_type": "code",
   "execution_count": null,
   "id": "86c1cbbcbee5d13b",
   "metadata": {},
   "outputs": [],
   "source": []
  }
 ],
 "metadata": {
  "kernelspec": {
   "display_name": "Python 3 (ipykernel)",
   "language": "python",
   "name": "python3"
  },
  "language_info": {
   "codemirror_mode": {
    "name": "ipython",
    "version": 3
   },
   "file_extension": ".py",
   "mimetype": "text/x-python",
   "name": "python",
   "nbconvert_exporter": "python",
   "pygments_lexer": "ipython3",
   "version": "3.11.4"
  }
 },
 "nbformat": 4,
 "nbformat_minor": 5
}
