{
 "cells": [
  {
   "cell_type": "code",
   "execution_count": null,
   "id": "462b2b9c",
   "metadata": {},
   "outputs": [],
   "source": [
    "### Import the packages\n",
    "import numpy as np\n",
    "import pandas as pd\n",
    "import seaborn as sns\n",
    "import matplotlib.pyplot as plt"
   ]
  },
  {
   "cell_type": "code",
   "execution_count": null,
   "id": "4ab44725",
   "metadata": {},
   "outputs": [],
   "source": [
    "df=pd.read_csv(\"https://raw.githubusercontent.com/Premalatha-success/edForce/main/titanic-training-data.csv\")"
   ]
  },
  {
   "cell_type": "code",
   "execution_count": null,
   "id": "9aee81d7",
   "metadata": {},
   "outputs": [],
   "source": [
    "df.sample(10)"
   ]
  },
  {
   "cell_type": "code",
   "execution_count": null,
   "id": "82b06e43",
   "metadata": {},
   "outputs": [],
   "source": [
    "df.shape"
   ]
  },
  {
   "cell_type": "code",
   "execution_count": null,
   "id": "6ed2b13d",
   "metadata": {},
   "outputs": [],
   "source": [
    "df.isnull().sum()"
   ]
  },
  {
   "cell_type": "markdown",
   "id": "d467b23a",
   "metadata": {},
   "source": [
    "#### Age-177 missing values \n",
    "#### cabin-687\n",
    "#### Embarked-2"
   ]
  },
  {
   "cell_type": "code",
   "execution_count": null,
   "id": "31aad4ae",
   "metadata": {},
   "outputs": [],
   "source": [
    "df.dtypes"
   ]
  },
  {
   "cell_type": "markdown",
   "id": "22371d36",
   "metadata": {},
   "source": [
    "#### Age-> float\n",
    "#### Cabin->Object\n",
    "#### Embarked-> object"
   ]
  },
  {
   "cell_type": "code",
   "execution_count": null,
   "id": "0a12d71a",
   "metadata": {},
   "outputs": [],
   "source": [
    "df.drop(\"Cabin\",axis=1,inplace=True)"
   ]
  },
  {
   "cell_type": "code",
   "execution_count": null,
   "id": "b6668492",
   "metadata": {},
   "outputs": [],
   "source": [
    "df.shape"
   ]
  },
  {
   "cell_type": "code",
   "execution_count": null,
   "id": "9454c1fd",
   "metadata": {},
   "outputs": [],
   "source": [
    "### Handling Duplicate records\n",
    "duplicate=df.duplicated()\n",
    "print(duplicate.sum())\n"
   ]
  },
  {
   "cell_type": "code",
   "execution_count": null,
   "id": "ed95779a",
   "metadata": {},
   "outputs": [],
   "source": [
    "df.drop_duplicates(inplace=True)"
   ]
  },
  {
   "cell_type": "code",
   "execution_count": null,
   "id": "190d301f",
   "metadata": {},
   "outputs": [],
   "source": [
    "df.shape"
   ]
  },
  {
   "cell_type": "code",
   "execution_count": null,
   "id": "18005870",
   "metadata": {
    "scrolled": true
   },
   "outputs": [],
   "source": [
    "df.dtypes"
   ]
  },
  {
   "cell_type": "code",
   "execution_count": null,
   "id": "6ce24f5b",
   "metadata": {},
   "outputs": [],
   "source": [
    "df.info()"
   ]
  },
  {
   "cell_type": "code",
   "execution_count": null,
   "id": "e0da5069",
   "metadata": {},
   "outputs": [],
   "source": [
    "df.isnull().sum()"
   ]
  },
  {
   "cell_type": "code",
   "execution_count": null,
   "id": "59f455d3",
   "metadata": {},
   "outputs": [],
   "source": [
    "df.shape"
   ]
  },
  {
   "cell_type": "code",
   "execution_count": null,
   "id": "3673fdbe",
   "metadata": {},
   "outputs": [],
   "source": [
    "df.describe()"
   ]
  },
  {
   "cell_type": "code",
   "execution_count": null,
   "id": "0cf59d9c",
   "metadata": {},
   "outputs": [],
   "source": [
    "df.describe(include=\"all\")"
   ]
  },
  {
   "cell_type": "code",
   "execution_count": null,
   "id": "298725e9",
   "metadata": {},
   "outputs": [],
   "source": [
    "### Dropping unwanted columns\n",
    "df.drop([\"PassengerId\",\"Ticket\",\"Fare\",\"Name\"],axis=1,inplace=True)"
   ]
  },
  {
   "cell_type": "code",
   "execution_count": null,
   "id": "97a01341",
   "metadata": {},
   "outputs": [],
   "source": [
    "df.head()"
   ]
  },
  {
   "cell_type": "code",
   "execution_count": null,
   "id": "ef5c7572",
   "metadata": {},
   "outputs": [],
   "source": [
    "df.shape"
   ]
  },
  {
   "cell_type": "code",
   "execution_count": null,
   "id": "21a36bee",
   "metadata": {},
   "outputs": [],
   "source": [
    "Age-> float"
   ]
  },
  {
   "cell_type": "code",
   "execution_count": null,
   "id": "4f30731d",
   "metadata": {},
   "outputs": [],
   "source": [
    "### Dealing with missing values\n",
    "median1=df[\"Age\"].median()\n",
    "median1"
   ]
  },
  {
   "cell_type": "code",
   "execution_count": null,
   "id": "1bb1f35e",
   "metadata": {},
   "outputs": [],
   "source": [
    "df[\"Age\"].replace(np.nan,median1,inplace=True)"
   ]
  },
  {
   "cell_type": "code",
   "execution_count": null,
   "id": "78ce1ddc",
   "metadata": {},
   "outputs": [],
   "source": [
    "df.isnull().sum()"
   ]
  },
  {
   "cell_type": "code",
   "execution_count": null,
   "id": "1bc93acc",
   "metadata": {},
   "outputs": [],
   "source": [
    "mode1=df[\"Embarked\"].mode().values[0]"
   ]
  },
  {
   "cell_type": "code",
   "execution_count": null,
   "id": "1602ba00",
   "metadata": {},
   "outputs": [],
   "source": [
    "mode1"
   ]
  },
  {
   "cell_type": "code",
   "execution_count": null,
   "id": "ad40d3d2",
   "metadata": {},
   "outputs": [],
   "source": [
    "df[\"Embarked\"].replace(np.nan,mode1,inplace=True)"
   ]
  },
  {
   "cell_type": "code",
   "execution_count": null,
   "id": "c9da5532",
   "metadata": {},
   "outputs": [],
   "source": [
    "df.isnull().sum()"
   ]
  },
  {
   "cell_type": "code",
   "execution_count": null,
   "id": "508155bc",
   "metadata": {},
   "outputs": [],
   "source": [
    "df.shape"
   ]
  },
  {
   "cell_type": "code",
   "execution_count": null,
   "id": "a3193fe1",
   "metadata": {},
   "outputs": [],
   "source": [
    "sns.boxplot(y=\"Age\",data=df)"
   ]
  },
  {
   "cell_type": "code",
   "execution_count": null,
   "id": "4dd1372f",
   "metadata": {},
   "outputs": [],
   "source": [
    "def remove_outlier(col):\n",
    "    sorted(col)\n",
    "    Q1,Q3=col.quantile([0.25,0.75])\n",
    "    IQR=Q3-Q1\n",
    "    lower_range=Q1-(1.5*IQR)\n",
    "    upper_range=Q3+(1.5*IQR)\n",
    "    return lower_range,upper_range"
   ]
  },
  {
   "cell_type": "code",
   "execution_count": null,
   "id": "e325e86e",
   "metadata": {},
   "outputs": [],
   "source": [
    "lowage,highage=remove_outlier(df[\"Age\"])\n",
    "df[\"Age\"]=np.where(df[\"Age\"]>highage,highage,df[\"Age\"])\n",
    "df[\"Age\"]=np.where(df[\"Age\"]<lowage,lowage,df[\"Age\"])"
   ]
  },
  {
   "cell_type": "code",
   "execution_count": null,
   "id": "73f1b99c",
   "metadata": {},
   "outputs": [],
   "source": [
    "sns.boxplot(y=\"Age\",data=df)"
   ]
  },
  {
   "cell_type": "code",
   "execution_count": null,
   "id": "1d088847",
   "metadata": {},
   "outputs": [],
   "source": [
    "df.dtypes"
   ]
  },
  {
   "cell_type": "code",
   "execution_count": null,
   "id": "bf2d6c35",
   "metadata": {},
   "outputs": [],
   "source": [
    "df=pd.get_dummies(df,columns=[\"Sex\",\"Embarked\"])"
   ]
  },
  {
   "cell_type": "code",
   "execution_count": null,
   "id": "5704d7bf",
   "metadata": {},
   "outputs": [],
   "source": [
    "### Handling categorical data(One-hot encoding)\n",
    "df=pd.get_dummies(df)"
   ]
  },
  {
   "cell_type": "code",
   "execution_count": null,
   "id": "143a4f24",
   "metadata": {},
   "outputs": [],
   "source": [
    "df.head()\n",
    "\n",
    "\n"
   ]
  },
  {
   "cell_type": "code",
   "execution_count": null,
   "id": "69684761",
   "metadata": {},
   "outputs": [],
   "source": []
  }
 ],
 "metadata": {
  "kernelspec": {
   "display_name": "Python 3 (ipykernel)",
   "language": "python",
   "name": "python3"
  },
  "language_info": {
   "codemirror_mode": {
    "name": "ipython",
    "version": 3
   },
   "file_extension": ".py",
   "mimetype": "text/x-python",
   "name": "python",
   "nbconvert_exporter": "python",
   "pygments_lexer": "ipython3",
   "version": "3.9.12"
  }
 },
 "nbformat": 4,
 "nbformat_minor": 5
}
