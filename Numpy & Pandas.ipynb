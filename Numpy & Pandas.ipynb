{
 "cells": [
  {
   "cell_type": "code",
   "execution_count": 2,
   "id": "65872c99-257d-4233-b30d-1e4f32b7ef99",
   "metadata": {
    "ExecuteTime": {
     "end_time": "2023-09-21T13:04:12.789507693Z",
     "start_time": "2023-09-21T13:04:12.493558201Z"
    }
   },
   "outputs": [],
   "source": [
    "import numpy as np\n",
    "import pandas as pd"
   ]
  },
  {
   "cell_type": "code",
   "execution_count": 3,
   "id": "9fae1c7d-6639-40d2-9bce-82081a866952",
   "metadata": {
    "ExecuteTime": {
     "end_time": "2023-09-21T13:04:13.640567178Z",
     "start_time": "2023-09-21T13:04:13.635729808Z"
    }
   },
   "outputs": [
    {
     "data": {
      "text/plain": "array([0, 1, 2, 3, 4])"
     },
     "execution_count": 3,
     "metadata": {},
     "output_type": "execute_result"
    }
   ],
   "source": [
    "np.arange(5)"
   ]
  },
  {
   "cell_type": "code",
   "execution_count": 4,
   "id": "f747b793-6c13-428e-bbb5-2ecc3411e144",
   "metadata": {
    "ExecuteTime": {
     "end_time": "2023-09-21T13:04:14.372324065Z",
     "start_time": "2023-09-21T13:04:14.365837332Z"
    }
   },
   "outputs": [
    {
     "data": {
      "text/plain": "array([0., 0., 0., 0., 0., 0., 0., 0., 0., 0.])"
     },
     "execution_count": 4,
     "metadata": {},
     "output_type": "execute_result"
    }
   ],
   "source": [
    "np.zeros(10)"
   ]
  },
  {
   "cell_type": "code",
   "execution_count": 5,
   "id": "815d83dd-a6f8-4100-8f99-12d6d15ca265",
   "metadata": {
    "ExecuteTime": {
     "end_time": "2023-09-21T13:04:14.934696053Z",
     "start_time": "2023-09-21T13:04:14.929656810Z"
    }
   },
   "outputs": [
    {
     "data": {
      "text/plain": "array([ 1,  6, 11, 16, 21, 26, 31])"
     },
     "execution_count": 5,
     "metadata": {},
     "output_type": "execute_result"
    }
   ],
   "source": [
    "np.arange(1,32,5)"
   ]
  },
  {
   "cell_type": "code",
   "execution_count": 6,
   "id": "c0e865d6-76d9-4535-9bd2-664d35f5c1bf",
   "metadata": {
    "ExecuteTime": {
     "end_time": "2023-09-21T13:04:16.212876803Z",
     "start_time": "2023-09-21T13:04:16.207881322Z"
    }
   },
   "outputs": [
    {
     "data": {
      "text/plain": "array([[1., 1., 1.],\n       [1., 1., 1.]])"
     },
     "execution_count": 6,
     "metadata": {},
     "output_type": "execute_result"
    }
   ],
   "source": [
    "np.ones((2,3))"
   ]
  },
  {
   "cell_type": "code",
   "execution_count": 7,
   "id": "804c59f3-042e-4968-aca7-896084e75a7e",
   "metadata": {
    "ExecuteTime": {
     "end_time": "2023-09-21T13:04:16.907430708Z",
     "start_time": "2023-09-21T13:04:16.900173224Z"
    }
   },
   "outputs": [
    {
     "data": {
      "text/plain": "array([0, 0, 0, 0, 0, 0, 0, 0, 0, 0])"
     },
     "execution_count": 7,
     "metadata": {},
     "output_type": "execute_result"
    }
   ],
   "source": [
    "np.zeros(10,int)"
   ]
  },
  {
   "cell_type": "code",
   "execution_count": 8,
   "id": "69695ca9-9c8e-4b03-983c-846ba23b059c",
   "metadata": {
    "ExecuteTime": {
     "end_time": "2023-09-21T13:04:18.163256741Z",
     "start_time": "2023-09-21T13:04:18.157897559Z"
    }
   },
   "outputs": [
    {
     "data": {
      "text/plain": "array([1., 1., 1., 1., 1., 1., 1., 1., 1., 1., 1., 1., 1., 1., 1., 1., 1.,\n       1., 1., 1., 1., 1., 1., 1., 1., 1., 1., 1., 1., 1., 1., 1., 1., 1.,\n       1., 1., 1., 1., 1., 1., 1., 1., 1., 1., 1., 1., 1., 1., 1., 1., 1.,\n       1., 1., 1., 1., 1., 1., 1., 1., 1., 1., 1., 1., 1., 1., 1., 1., 1.,\n       1., 1., 1., 1., 1., 1., 1., 1., 1., 1., 1., 1., 1., 1., 1., 1., 1.,\n       1., 1., 1., 1., 1., 1., 1., 1., 1., 1., 1., 1., 1., 1., 1.])"
     },
     "execution_count": 8,
     "metadata": {},
     "output_type": "execute_result"
    }
   ],
   "source": [
    "np.ones(100)"
   ]
  },
  {
   "cell_type": "code",
   "execution_count": 9,
   "id": "68c982a7-b8ba-4353-a5b8-a79e33434e23",
   "metadata": {
    "ExecuteTime": {
     "end_time": "2023-09-21T13:04:19.029872313Z",
     "start_time": "2023-09-21T13:04:19.025135887Z"
    }
   },
   "outputs": [
    {
     "data": {
      "text/plain": "array([[1, 1, 1],\n       [1, 1, 1]])"
     },
     "execution_count": 9,
     "metadata": {},
     "output_type": "execute_result"
    }
   ],
   "source": [
    "np.ones((2,3),int)"
   ]
  },
  {
   "cell_type": "code",
   "execution_count": 10,
   "id": "c6b0af07-aeca-4029-b2be-15fe7618039d",
   "metadata": {
    "ExecuteTime": {
     "end_time": "2023-09-21T13:04:20.243681925Z",
     "start_time": "2023-09-21T13:04:20.240761238Z"
    }
   },
   "outputs": [
    {
     "data": {
      "text/plain": "array([0. , 0.5, 1. , 1.5, 2. ])"
     },
     "execution_count": 10,
     "metadata": {},
     "output_type": "execute_result"
    }
   ],
   "source": [
    "np.linspace(0,2,5) #linearly spaced"
   ]
  },
  {
   "cell_type": "code",
   "execution_count": 11,
   "id": "96a39a16-41b7-439c-a4ba-bf914e250c23",
   "metadata": {
    "ExecuteTime": {
     "end_time": "2023-09-21T13:04:20.915768816Z",
     "start_time": "2023-09-21T13:04:20.912448162Z"
    }
   },
   "outputs": [
    {
     "data": {
      "text/plain": "array([[1, 0, 0, 0, 0, 0, 0, 0, 0, 0],\n       [0, 1, 0, 0, 0, 0, 0, 0, 0, 0],\n       [0, 0, 1, 0, 0, 0, 0, 0, 0, 0],\n       [0, 0, 0, 1, 0, 0, 0, 0, 0, 0],\n       [0, 0, 0, 0, 1, 0, 0, 0, 0, 0],\n       [0, 0, 0, 0, 0, 1, 0, 0, 0, 0],\n       [0, 0, 0, 0, 0, 0, 1, 0, 0, 0],\n       [0, 0, 0, 0, 0, 0, 0, 1, 0, 0],\n       [0, 0, 0, 0, 0, 0, 0, 0, 1, 0],\n       [0, 0, 0, 0, 0, 0, 0, 0, 0, 1]])"
     },
     "execution_count": 11,
     "metadata": {},
     "output_type": "execute_result"
    }
   ],
   "source": [
    "np.eye(10, dtype = int)"
   ]
  },
  {
   "cell_type": "code",
   "execution_count": 12,
   "id": "1d127b16-f0d1-4a64-ab9d-71cea6b7ac0a",
   "metadata": {
    "ExecuteTime": {
     "end_time": "2023-09-21T13:04:21.421587738Z",
     "start_time": "2023-09-21T13:04:21.414305441Z"
    }
   },
   "outputs": [
    {
     "data": {
      "text/plain": "array([[0.66739071, 0.95232181, 0.26745001, 0.57640409, 0.20272476],\n       [0.01448556, 0.2900829 , 0.21353964, 0.97207691, 0.44404997],\n       [0.16663917, 0.14716737, 0.76876542, 0.2402503 , 0.41379701]])"
     },
     "execution_count": 12,
     "metadata": {},
     "output_type": "execute_result"
    }
   ],
   "source": [
    "np.random.rand(3,5) # 0 to 1 uniform distribution"
   ]
  },
  {
   "cell_type": "code",
   "execution_count": 13,
   "id": "0053dc35-4497-441f-b9b7-a5c46039e25b",
   "metadata": {
    "ExecuteTime": {
     "end_time": "2023-09-21T13:04:21.827835354Z",
     "start_time": "2023-09-21T13:04:21.822163047Z"
    }
   },
   "outputs": [
    {
     "data": {
      "text/plain": "array([[ 0.10690132, -0.50980405, -1.18269908,  0.61584338],\n       [ 1.40684675,  0.85131373, -0.15588956,  1.81275997]])"
     },
     "execution_count": 13,
     "metadata": {},
     "output_type": "execute_result"
    }
   ],
   "source": [
    "arr = np.random.randn(2,4)\n",
    "arr"
   ]
  },
  {
   "cell_type": "code",
   "execution_count": 14,
   "id": "2c65997a1ff7efb4",
   "metadata": {
    "ExecuteTime": {
     "end_time": "2023-09-21T13:04:22.267297908Z",
     "start_time": "2023-09-21T13:04:22.256183511Z"
    }
   },
   "outputs": [
    {
     "data": {
      "text/plain": "97"
     },
     "execution_count": 14,
     "metadata": {},
     "output_type": "execute_result"
    }
   ],
   "source": [
    "np.random.randint(2,100)"
   ]
  },
  {
   "cell_type": "code",
   "execution_count": 15,
   "id": "8a94f1815cf553f7",
   "metadata": {
    "ExecuteTime": {
     "end_time": "2023-09-21T13:04:22.679311973Z",
     "start_time": "2023-09-21T13:04:22.673757728Z"
    }
   },
   "outputs": [
    {
     "data": {
      "text/plain": "array([29, 28, 26, 28, 46, 54, 46, 51, 55, 36, 29, 39, 48, 28, 54, 47, 54,\n       42, 43, 33, 29, 51, 22, 23, 29, 20, 43, 51, 23, 55, 20, 42, 37, 49,\n       22, 39, 30, 35, 44, 50, 29, 38, 39, 33, 38, 36, 50, 28, 47, 43, 51,\n       40, 49, 33, 32, 45, 27, 27, 40, 43, 53, 35, 43, 25, 41, 47, 55, 23,\n       22, 32, 23, 54, 24, 55, 26, 37, 52, 33, 31, 37, 52, 21, 35, 38, 32,\n       24, 20, 28, 21, 22, 38, 37, 26, 29, 47, 32, 45, 35, 46, 36])"
     },
     "execution_count": 15,
     "metadata": {},
     "output_type": "execute_result"
    }
   ],
   "source": [
    "np.random.randint(20,56,100)"
   ]
  },
  {
   "cell_type": "code",
   "execution_count": 16,
   "id": "d1a5a78eb55cab82",
   "metadata": {
    "ExecuteTime": {
     "end_time": "2023-09-21T13:04:23.196878273Z",
     "start_time": "2023-09-21T13:04:23.189986660Z"
    }
   },
   "outputs": [
    {
     "data": {
      "text/plain": "array([ 0,  1,  2,  3,  4,  5,  6,  7,  8,  9, 10, 11, 12, 13, 14, 15, 16,\n       17, 18, 19, 20, 21, 22, 23, 24, 25, 26, 27, 28, 29])"
     },
     "execution_count": 16,
     "metadata": {},
     "output_type": "execute_result"
    }
   ],
   "source": [
    "arr = np.arange(30)\n",
    "arr"
   ]
  },
  {
   "cell_type": "code",
   "execution_count": 17,
   "id": "fc19003066c7a46d",
   "metadata": {
    "ExecuteTime": {
     "end_time": "2023-09-21T13:04:23.758837705Z",
     "start_time": "2023-09-21T13:04:23.752707059Z"
    }
   },
   "outputs": [
    {
     "data": {
      "text/plain": "array([ 5, 44, 39, 10, 44, 70, 55, 39,  7, 29,  2, 38, 58, 20,  6, 53, 31,\n       42, 90, 96])"
     },
     "execution_count": 17,
     "metadata": {},
     "output_type": "execute_result"
    }
   ],
   "source": [
    "r_arr = np.random.randint(0,100,20)\n",
    "r_arr"
   ]
  },
  {
   "cell_type": "code",
   "execution_count": 18,
   "id": "86c1cbbcbee5d13b",
   "metadata": {
    "ExecuteTime": {
     "end_time": "2023-09-21T13:04:24.300970070Z",
     "start_time": "2023-09-21T13:04:24.297772587Z"
    }
   },
   "outputs": [
    {
     "data": {
      "text/plain": "array([[1., 0., 0., 0., 0.],\n       [0., 1., 0., 0., 0.],\n       [0., 0., 1., 0., 0.],\n       [0., 0., 0., 1., 0.],\n       [0., 0., 0., 0., 1.]])"
     },
     "execution_count": 18,
     "metadata": {},
     "output_type": "execute_result"
    }
   ],
   "source": [
    "a = np.eye(5)\n",
    "a"
   ]
  },
  {
   "cell_type": "code",
   "execution_count": 19,
   "outputs": [
    {
     "data": {
      "text/plain": "array([[1., 0., 0., 0., 0.],\n       [0., 1., 0., 0., 0.],\n       [0., 0., 1., 0., 0.],\n       [0., 0., 0., 1., 0.],\n       [0., 0., 0., 0., 1.]])"
     },
     "execution_count": 19,
     "metadata": {},
     "output_type": "execute_result"
    }
   ],
   "source": [
    "a.T\n"
   ],
   "metadata": {
    "collapsed": false,
    "ExecuteTime": {
     "end_time": "2023-09-21T13:04:25.014501714Z",
     "start_time": "2023-09-21T13:04:25.009788957Z"
    }
   },
   "id": "437f5bc807173e63"
  },
  {
   "cell_type": "code",
   "execution_count": 20,
   "outputs": [
    {
     "data": {
      "text/plain": "array([[0.15708578, 0.03859332, 0.84797027],\n       [0.51724853, 0.19545224, 0.42461933]])"
     },
     "execution_count": 20,
     "metadata": {},
     "output_type": "execute_result"
    }
   ],
   "source": [
    "a = np.random.rand(2,3)\n",
    "a"
   ],
   "metadata": {
    "collapsed": false,
    "ExecuteTime": {
     "end_time": "2023-09-21T13:04:25.534911356Z",
     "start_time": "2023-09-21T13:04:25.529514368Z"
    }
   },
   "id": "22f4bec04c4ca60b"
  },
  {
   "cell_type": "code",
   "execution_count": 21,
   "outputs": [
    {
     "data": {
      "text/plain": "array([10, 11, 12, 13, 14, 15, 16, 17, 18, 19, 20])"
     },
     "execution_count": 21,
     "metadata": {},
     "output_type": "execute_result"
    }
   ],
   "source": [
    "sample_array = np.arange(10,21)\n",
    "sample_array"
   ],
   "metadata": {
    "collapsed": false,
    "ExecuteTime": {
     "end_time": "2023-09-21T13:15:33.704360975Z",
     "start_time": "2023-09-21T13:15:33.650670876Z"
    }
   },
   "id": "28e3ba3b309009c"
  },
  {
   "cell_type": "code",
   "execution_count": 22,
   "outputs": [
    {
     "data": {
      "text/plain": "10"
     },
     "execution_count": 22,
     "metadata": {},
     "output_type": "execute_result"
    }
   ],
   "source": [
    "sample_array[0]"
   ],
   "metadata": {
    "collapsed": false,
    "ExecuteTime": {
     "end_time": "2023-09-21T13:15:41.944675863Z",
     "start_time": "2023-09-21T13:15:41.896131583Z"
    }
   },
   "id": "3deb888cb762031d"
  },
  {
   "cell_type": "code",
   "execution_count": 23,
   "outputs": [
    {
     "data": {
      "text/plain": "array([12, 13, 14])"
     },
     "execution_count": 23,
     "metadata": {},
     "output_type": "execute_result"
    }
   ],
   "source": [
    "sample_array[2:5]"
   ],
   "metadata": {
    "collapsed": false,
    "ExecuteTime": {
     "end_time": "2023-09-21T13:15:50.497649037Z",
     "start_time": "2023-09-21T13:15:50.473773858Z"
    }
   },
   "id": "d13cae7939c939d0"
  },
  {
   "cell_type": "code",
   "execution_count": 24,
   "outputs": [
    {
     "data": {
      "text/plain": "array([ 10, 100, 100, 100,  14,  15,  16,  17,  18,  19,  20])"
     },
     "execution_count": 24,
     "metadata": {},
     "output_type": "execute_result"
    }
   ],
   "source": [
    "sample_array[1:4] = 100\n",
    "sample_array"
   ],
   "metadata": {
    "collapsed": false,
    "ExecuteTime": {
     "end_time": "2023-09-21T13:16:15.188955540Z",
     "start_time": "2023-09-21T13:16:15.144729050Z"
    }
   },
   "id": "32b87a48317eef9c"
  },
  {
   "cell_type": "code",
   "execution_count": 26,
   "outputs": [
    {
     "data": {
      "text/plain": "array([10, 11, 12, 13, 14, 15, 16, 17, 18, 19, 20])"
     },
     "execution_count": 26,
     "metadata": {},
     "output_type": "execute_result"
    }
   ],
   "source": [
    "sample_array = np.arange(10,21)\n",
    "sample_array"
   ],
   "metadata": {
    "collapsed": false,
    "ExecuteTime": {
     "end_time": "2023-09-21T13:16:47.954001995Z",
     "start_time": "2023-09-21T13:16:47.945735303Z"
    }
   },
   "id": "db3345acf78e9389"
  },
  {
   "cell_type": "code",
   "execution_count": 31,
   "outputs": [
    {
     "data": {
      "text/plain": "array([10, 11, 12, 13, 14, 15, 16])"
     },
     "execution_count": 31,
     "metadata": {},
     "output_type": "execute_result"
    }
   ],
   "source": [
    "sample_array[0:7]"
   ],
   "metadata": {
    "collapsed": false,
    "ExecuteTime": {
     "end_time": "2023-09-21T13:22:21.327080969Z",
     "start_time": "2023-09-21T13:22:21.284515560Z"
    }
   },
   "id": "e61483deb43f859e"
  },
  {
   "cell_type": "code",
   "execution_count": 32,
   "outputs": [
    {
     "data": {
      "text/plain": "array([10, 11, 12, 13, 14, 15, 16])"
     },
     "execution_count": 32,
     "metadata": {},
     "output_type": "execute_result"
    }
   ],
   "source": [
    "subset_sample_array = sample_array[0:7]\n",
    "subset_sample_array"
   ],
   "metadata": {
    "collapsed": false,
    "ExecuteTime": {
     "end_time": "2023-09-21T13:23:17.807743146Z",
     "start_time": "2023-09-21T13:23:17.760013326Z"
    }
   },
   "id": "ddaf3fc59a7f9b35"
  },
  {
   "cell_type": "code",
   "execution_count": 33,
   "outputs": [
    {
     "data": {
      "text/plain": "array([100, 100, 100, 100, 100, 100, 100])"
     },
     "execution_count": 33,
     "metadata": {},
     "output_type": "execute_result"
    }
   ],
   "source": [
    "subset_sample_array[:] = 100\n",
    "subset_sample_array"
   ],
   "metadata": {
    "collapsed": false,
    "ExecuteTime": {
     "end_time": "2023-09-21T13:23:48.793105543Z",
     "start_time": "2023-09-21T13:23:48.750876463Z"
    }
   },
   "id": "816075f7cd7d83cf"
  },
  {
   "cell_type": "markdown",
   "source": [
    "## Two Dimensional Array"
   ],
   "metadata": {
    "collapsed": false
   },
   "id": "a928ae4df09a497e"
  },
  {
   "cell_type": "code",
   "execution_count": 34,
   "outputs": [
    {
     "data": {
      "text/plain": "array([[1, 2, 3],\n       [4, 5, 6],\n       [7, 8, 9]])"
     },
     "execution_count": 34,
     "metadata": {},
     "output_type": "execute_result"
    }
   ],
   "source": [
    "sample_matrix = np.array([[1,2,3], \n",
    "                          [4,5,6],\n",
    "                          [7,8,9]])\n",
    "sample_matrix"
   ],
   "metadata": {
    "collapsed": false,
    "ExecuteTime": {
     "end_time": "2023-09-21T13:23:54.799155565Z",
     "start_time": "2023-09-21T13:23:54.796760911Z"
    }
   },
   "id": "7d6865c8b422e85f"
  },
  {
   "cell_type": "code",
   "execution_count": 35,
   "outputs": [
    {
     "data": {
      "text/plain": "5"
     },
     "execution_count": 35,
     "metadata": {},
     "output_type": "execute_result"
    }
   ],
   "source": [
    "sample_matrix[1,1]"
   ],
   "metadata": {
    "collapsed": false,
    "ExecuteTime": {
     "end_time": "2023-09-21T13:23:55.643361772Z",
     "start_time": "2023-09-21T13:23:55.640171248Z"
    }
   },
   "id": "eb49cd08be922657"
  },
  {
   "cell_type": "code",
   "execution_count": 36,
   "outputs": [
    {
     "data": {
      "text/plain": "array([7, 8, 9])"
     },
     "execution_count": 36,
     "metadata": {},
     "output_type": "execute_result"
    }
   ],
   "source": [
    "sample_matrix[2,:]"
   ],
   "metadata": {
    "collapsed": false,
    "ExecuteTime": {
     "end_time": "2023-09-21T13:29:47.394996836Z",
     "start_time": "2023-09-21T13:29:47.342739485Z"
    }
   },
   "id": "e0e74e29d3727ee5"
  },
  {
   "cell_type": "code",
   "execution_count": 37,
   "outputs": [
    {
     "data": {
      "text/plain": "array([7, 8, 9])"
     },
     "execution_count": 37,
     "metadata": {},
     "output_type": "execute_result"
    }
   ],
   "source": [
    "sample_matrix[2]"
   ],
   "metadata": {
    "collapsed": false,
    "ExecuteTime": {
     "end_time": "2023-09-21T13:29:55.946137363Z",
     "start_time": "2023-09-21T13:29:55.909650724Z"
    }
   },
   "id": "92f33987d0f5d8f1"
  },
  {
   "cell_type": "code",
   "execution_count": 39,
   "outputs": [
    {
     "data": {
      "text/plain": "array([[3, 2],\n       [6, 5],\n       [9, 8]])"
     },
     "execution_count": 39,
     "metadata": {},
     "output_type": "execute_result"
    }
   ],
   "source": [
    "sample_matrix[:,(2,1)]"
   ],
   "metadata": {
    "collapsed": false,
    "ExecuteTime": {
     "end_time": "2023-09-21T13:30:12.719010900Z",
     "start_time": "2023-09-21T13:30:12.677113407Z"
    }
   },
   "id": "4bb58fc3b8f362bf"
  },
  {
   "cell_type": "code",
   "execution_count": null,
   "outputs": [],
   "source": [],
   "metadata": {
    "collapsed": false
   },
   "id": "758fc69c0e49933f"
  }
 ],
 "metadata": {
  "kernelspec": {
   "display_name": "Python 3 (ipykernel)",
   "language": "python",
   "name": "python3"
  },
  "language_info": {
   "codemirror_mode": {
    "name": "ipython",
    "version": 3
   },
   "file_extension": ".py",
   "mimetype": "text/x-python",
   "name": "python",
   "nbconvert_exporter": "python",
   "pygments_lexer": "ipython3",
   "version": "3.11.4"
  }
 },
 "nbformat": 4,
 "nbformat_minor": 5
}
