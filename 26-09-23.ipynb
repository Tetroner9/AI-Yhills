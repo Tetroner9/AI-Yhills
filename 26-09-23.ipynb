{
 "cells": [
  {
   "cell_type": "code",
   "execution_count": 68,
   "id": "initial_id",
   "metadata": {
    "collapsed": true,
    "ExecuteTime": {
     "end_time": "2023-09-26T13:25:38.254913565Z",
     "start_time": "2023-09-26T13:25:38.193326364Z"
    }
   },
   "outputs": [],
   "source": [
    "import numpy as np\n",
    "import pandas as pd"
   ]
  },
  {
   "cell_type": "code",
   "execution_count": 69,
   "outputs": [],
   "source": [
    "df = pd.read_csv('Datasets/Eye.csv')"
   ],
   "metadata": {
    "collapsed": false,
    "ExecuteTime": {
     "end_time": "2023-09-26T13:25:38.255168849Z",
     "start_time": "2023-09-26T13:25:38.235320851Z"
    }
   },
   "id": "aba28c6a96c289c1"
  },
  {
   "cell_type": "code",
   "execution_count": 70,
   "outputs": [
    {
     "data": {
      "text/plain": "        V1       V2       V3       V4       V5       V6       V7       V8  \\\n0  4329.23  4009.23  4289.23  4148.21  4350.26  4586.15  4096.92  4641.03   \n1  4324.62  4004.62  4293.85  4148.72  4342.05  4586.67  4097.44  4638.97   \n2  4327.69  4006.67  4295.38  4156.41  4336.92  4583.59  4096.92  4630.26   \n3  4328.72  4011.79  4296.41  4155.90  4343.59  4582.56  4097.44  4630.77   \n4  4326.15  4011.79  4292.31  4151.28  4347.69  4586.67  4095.90  4627.69   \n5  4321.03  4004.62  4284.10  4153.33  4345.64  4587.18  4093.33  4616.92   \n6  4319.49  4001.03  4280.51  4151.79  4343.59  4584.62  4089.74  4615.90   \n7  4325.64  4006.67  4278.46  4143.08  4344.10  4583.08  4087.18  4614.87   \n8  4326.15  4010.77  4276.41  4139.49  4345.13  4584.10  4091.28  4608.21   \n9  4326.15  4011.28  4276.92  4142.05  4344.10  4582.56  4092.82  4608.72   \n\n        V9      V10      V11      V12      V13      V14  Class  \n0  4222.05  4238.46  4211.28  4280.51  4635.90  4393.85      1  \n1  4210.77  4226.67  4207.69  4279.49  4632.82  4384.10      1  \n2  4207.69  4222.05  4206.67  4282.05  4628.72  4389.23      1  \n3  4217.44  4235.38  4210.77  4287.69  4632.31  4396.41      1  \n4  4210.77  4244.10  4212.82  4288.21  4632.82  4398.46      1  \n5  4202.56  4232.82  4209.74  4281.03  4628.21  4389.74      1  \n6  4212.31  4226.67  4201.03  4269.74  4625.13  4378.46      1  \n7  4205.64  4230.26  4195.90  4266.67  4622.05  4380.51      1  \n8  4187.69  4229.74  4202.05  4273.85  4627.18  4389.74      1  \n9  4194.36  4228.72  4212.82  4277.95  4637.44  4393.33      1  ",
      "text/html": "<div>\n<style scoped>\n    .dataframe tbody tr th:only-of-type {\n        vertical-align: middle;\n    }\n\n    .dataframe tbody tr th {\n        vertical-align: top;\n    }\n\n    .dataframe thead th {\n        text-align: right;\n    }\n</style>\n<table border=\"1\" class=\"dataframe\">\n  <thead>\n    <tr style=\"text-align: right;\">\n      <th></th>\n      <th>V1</th>\n      <th>V2</th>\n      <th>V3</th>\n      <th>V4</th>\n      <th>V5</th>\n      <th>V6</th>\n      <th>V7</th>\n      <th>V8</th>\n      <th>V9</th>\n      <th>V10</th>\n      <th>V11</th>\n      <th>V12</th>\n      <th>V13</th>\n      <th>V14</th>\n      <th>Class</th>\n    </tr>\n  </thead>\n  <tbody>\n    <tr>\n      <th>0</th>\n      <td>4329.23</td>\n      <td>4009.23</td>\n      <td>4289.23</td>\n      <td>4148.21</td>\n      <td>4350.26</td>\n      <td>4586.15</td>\n      <td>4096.92</td>\n      <td>4641.03</td>\n      <td>4222.05</td>\n      <td>4238.46</td>\n      <td>4211.28</td>\n      <td>4280.51</td>\n      <td>4635.90</td>\n      <td>4393.85</td>\n      <td>1</td>\n    </tr>\n    <tr>\n      <th>1</th>\n      <td>4324.62</td>\n      <td>4004.62</td>\n      <td>4293.85</td>\n      <td>4148.72</td>\n      <td>4342.05</td>\n      <td>4586.67</td>\n      <td>4097.44</td>\n      <td>4638.97</td>\n      <td>4210.77</td>\n      <td>4226.67</td>\n      <td>4207.69</td>\n      <td>4279.49</td>\n      <td>4632.82</td>\n      <td>4384.10</td>\n      <td>1</td>\n    </tr>\n    <tr>\n      <th>2</th>\n      <td>4327.69</td>\n      <td>4006.67</td>\n      <td>4295.38</td>\n      <td>4156.41</td>\n      <td>4336.92</td>\n      <td>4583.59</td>\n      <td>4096.92</td>\n      <td>4630.26</td>\n      <td>4207.69</td>\n      <td>4222.05</td>\n      <td>4206.67</td>\n      <td>4282.05</td>\n      <td>4628.72</td>\n      <td>4389.23</td>\n      <td>1</td>\n    </tr>\n    <tr>\n      <th>3</th>\n      <td>4328.72</td>\n      <td>4011.79</td>\n      <td>4296.41</td>\n      <td>4155.90</td>\n      <td>4343.59</td>\n      <td>4582.56</td>\n      <td>4097.44</td>\n      <td>4630.77</td>\n      <td>4217.44</td>\n      <td>4235.38</td>\n      <td>4210.77</td>\n      <td>4287.69</td>\n      <td>4632.31</td>\n      <td>4396.41</td>\n      <td>1</td>\n    </tr>\n    <tr>\n      <th>4</th>\n      <td>4326.15</td>\n      <td>4011.79</td>\n      <td>4292.31</td>\n      <td>4151.28</td>\n      <td>4347.69</td>\n      <td>4586.67</td>\n      <td>4095.90</td>\n      <td>4627.69</td>\n      <td>4210.77</td>\n      <td>4244.10</td>\n      <td>4212.82</td>\n      <td>4288.21</td>\n      <td>4632.82</td>\n      <td>4398.46</td>\n      <td>1</td>\n    </tr>\n    <tr>\n      <th>5</th>\n      <td>4321.03</td>\n      <td>4004.62</td>\n      <td>4284.10</td>\n      <td>4153.33</td>\n      <td>4345.64</td>\n      <td>4587.18</td>\n      <td>4093.33</td>\n      <td>4616.92</td>\n      <td>4202.56</td>\n      <td>4232.82</td>\n      <td>4209.74</td>\n      <td>4281.03</td>\n      <td>4628.21</td>\n      <td>4389.74</td>\n      <td>1</td>\n    </tr>\n    <tr>\n      <th>6</th>\n      <td>4319.49</td>\n      <td>4001.03</td>\n      <td>4280.51</td>\n      <td>4151.79</td>\n      <td>4343.59</td>\n      <td>4584.62</td>\n      <td>4089.74</td>\n      <td>4615.90</td>\n      <td>4212.31</td>\n      <td>4226.67</td>\n      <td>4201.03</td>\n      <td>4269.74</td>\n      <td>4625.13</td>\n      <td>4378.46</td>\n      <td>1</td>\n    </tr>\n    <tr>\n      <th>7</th>\n      <td>4325.64</td>\n      <td>4006.67</td>\n      <td>4278.46</td>\n      <td>4143.08</td>\n      <td>4344.10</td>\n      <td>4583.08</td>\n      <td>4087.18</td>\n      <td>4614.87</td>\n      <td>4205.64</td>\n      <td>4230.26</td>\n      <td>4195.90</td>\n      <td>4266.67</td>\n      <td>4622.05</td>\n      <td>4380.51</td>\n      <td>1</td>\n    </tr>\n    <tr>\n      <th>8</th>\n      <td>4326.15</td>\n      <td>4010.77</td>\n      <td>4276.41</td>\n      <td>4139.49</td>\n      <td>4345.13</td>\n      <td>4584.10</td>\n      <td>4091.28</td>\n      <td>4608.21</td>\n      <td>4187.69</td>\n      <td>4229.74</td>\n      <td>4202.05</td>\n      <td>4273.85</td>\n      <td>4627.18</td>\n      <td>4389.74</td>\n      <td>1</td>\n    </tr>\n    <tr>\n      <th>9</th>\n      <td>4326.15</td>\n      <td>4011.28</td>\n      <td>4276.92</td>\n      <td>4142.05</td>\n      <td>4344.10</td>\n      <td>4582.56</td>\n      <td>4092.82</td>\n      <td>4608.72</td>\n      <td>4194.36</td>\n      <td>4228.72</td>\n      <td>4212.82</td>\n      <td>4277.95</td>\n      <td>4637.44</td>\n      <td>4393.33</td>\n      <td>1</td>\n    </tr>\n  </tbody>\n</table>\n</div>"
     },
     "execution_count": 70,
     "metadata": {},
     "output_type": "execute_result"
    }
   ],
   "source": [
    "df.head(10)"
   ],
   "metadata": {
    "collapsed": false,
    "ExecuteTime": {
     "end_time": "2023-09-26T13:25:38.255967763Z",
     "start_time": "2023-09-26T13:25:38.236048619Z"
    }
   },
   "id": "2ebce7b5e704a42d"
  },
  {
   "cell_type": "code",
   "execution_count": 71,
   "outputs": [
    {
     "data": {
      "text/plain": "            V1       V2       V3       V4       V5       V6       V7       V8  \\\n14970  4289.23  4003.08  4263.59  4124.62  4338.46  4621.03  4084.10  4625.13   \n14971  4288.72  3999.49  4254.36  4120.51  4336.92  4618.97  4082.56  4630.26   \n14972  4288.21  3995.90  4248.21  4120.00  4334.36  4615.90  4084.62  4641.03   \n14973  4282.56  3991.79  4250.26  4115.90  4332.31  4612.82  4077.44  4639.49   \n14974  4280.51  3988.72  4249.23  4116.92  4332.31  4612.82  4072.31  4632.31   \n14975  4281.03  3990.26  4245.64  4116.92  4333.85  4614.36  4074.87  4625.64   \n14976  4276.92  3991.79  4245.13  4110.77  4332.82  4615.38  4073.33  4621.54   \n14977  4277.44  3990.77  4246.67  4113.85  4333.33  4615.38  4072.82  4623.59   \n14978  4284.62  3991.79  4251.28  4122.05  4334.36  4616.41  4080.51  4628.72   \n14979  4287.69  3997.44  4260.00  4121.03  4333.33  4616.41  4088.72  4638.46   \n\n            V9      V10      V11      V12      V13      V14  Class  \n14970  4200.51  4226.67  4180.00  4279.49  4609.23  4354.36      2  \n14971  4207.18  4226.15  4177.95  4281.03  4605.13  4351.79      2  \n14972  4214.36  4228.72  4178.46  4273.85  4600.00  4343.08      2  \n14973  4210.77  4225.64  4175.38  4267.69  4595.90  4340.00      2  \n14974  4207.69  4220.00  4173.85  4271.28  4595.38  4343.08      2  \n14975  4203.08  4221.54  4171.28  4269.23  4593.33  4340.51      2  \n14976  4194.36  4217.44  4162.56  4259.49  4590.26  4333.33      2  \n14977  4193.33  4212.82  4160.51  4257.95  4591.79  4339.49      2  \n14978  4200.00  4220.00  4165.64  4267.18  4596.41  4350.77      2  \n14979  4212.31  4226.67  4167.69  4274.36  4597.95  4350.77      2  ",
      "text/html": "<div>\n<style scoped>\n    .dataframe tbody tr th:only-of-type {\n        vertical-align: middle;\n    }\n\n    .dataframe tbody tr th {\n        vertical-align: top;\n    }\n\n    .dataframe thead th {\n        text-align: right;\n    }\n</style>\n<table border=\"1\" class=\"dataframe\">\n  <thead>\n    <tr style=\"text-align: right;\">\n      <th></th>\n      <th>V1</th>\n      <th>V2</th>\n      <th>V3</th>\n      <th>V4</th>\n      <th>V5</th>\n      <th>V6</th>\n      <th>V7</th>\n      <th>V8</th>\n      <th>V9</th>\n      <th>V10</th>\n      <th>V11</th>\n      <th>V12</th>\n      <th>V13</th>\n      <th>V14</th>\n      <th>Class</th>\n    </tr>\n  </thead>\n  <tbody>\n    <tr>\n      <th>14970</th>\n      <td>4289.23</td>\n      <td>4003.08</td>\n      <td>4263.59</td>\n      <td>4124.62</td>\n      <td>4338.46</td>\n      <td>4621.03</td>\n      <td>4084.10</td>\n      <td>4625.13</td>\n      <td>4200.51</td>\n      <td>4226.67</td>\n      <td>4180.00</td>\n      <td>4279.49</td>\n      <td>4609.23</td>\n      <td>4354.36</td>\n      <td>2</td>\n    </tr>\n    <tr>\n      <th>14971</th>\n      <td>4288.72</td>\n      <td>3999.49</td>\n      <td>4254.36</td>\n      <td>4120.51</td>\n      <td>4336.92</td>\n      <td>4618.97</td>\n      <td>4082.56</td>\n      <td>4630.26</td>\n      <td>4207.18</td>\n      <td>4226.15</td>\n      <td>4177.95</td>\n      <td>4281.03</td>\n      <td>4605.13</td>\n      <td>4351.79</td>\n      <td>2</td>\n    </tr>\n    <tr>\n      <th>14972</th>\n      <td>4288.21</td>\n      <td>3995.90</td>\n      <td>4248.21</td>\n      <td>4120.00</td>\n      <td>4334.36</td>\n      <td>4615.90</td>\n      <td>4084.62</td>\n      <td>4641.03</td>\n      <td>4214.36</td>\n      <td>4228.72</td>\n      <td>4178.46</td>\n      <td>4273.85</td>\n      <td>4600.00</td>\n      <td>4343.08</td>\n      <td>2</td>\n    </tr>\n    <tr>\n      <th>14973</th>\n      <td>4282.56</td>\n      <td>3991.79</td>\n      <td>4250.26</td>\n      <td>4115.90</td>\n      <td>4332.31</td>\n      <td>4612.82</td>\n      <td>4077.44</td>\n      <td>4639.49</td>\n      <td>4210.77</td>\n      <td>4225.64</td>\n      <td>4175.38</td>\n      <td>4267.69</td>\n      <td>4595.90</td>\n      <td>4340.00</td>\n      <td>2</td>\n    </tr>\n    <tr>\n      <th>14974</th>\n      <td>4280.51</td>\n      <td>3988.72</td>\n      <td>4249.23</td>\n      <td>4116.92</td>\n      <td>4332.31</td>\n      <td>4612.82</td>\n      <td>4072.31</td>\n      <td>4632.31</td>\n      <td>4207.69</td>\n      <td>4220.00</td>\n      <td>4173.85</td>\n      <td>4271.28</td>\n      <td>4595.38</td>\n      <td>4343.08</td>\n      <td>2</td>\n    </tr>\n    <tr>\n      <th>14975</th>\n      <td>4281.03</td>\n      <td>3990.26</td>\n      <td>4245.64</td>\n      <td>4116.92</td>\n      <td>4333.85</td>\n      <td>4614.36</td>\n      <td>4074.87</td>\n      <td>4625.64</td>\n      <td>4203.08</td>\n      <td>4221.54</td>\n      <td>4171.28</td>\n      <td>4269.23</td>\n      <td>4593.33</td>\n      <td>4340.51</td>\n      <td>2</td>\n    </tr>\n    <tr>\n      <th>14976</th>\n      <td>4276.92</td>\n      <td>3991.79</td>\n      <td>4245.13</td>\n      <td>4110.77</td>\n      <td>4332.82</td>\n      <td>4615.38</td>\n      <td>4073.33</td>\n      <td>4621.54</td>\n      <td>4194.36</td>\n      <td>4217.44</td>\n      <td>4162.56</td>\n      <td>4259.49</td>\n      <td>4590.26</td>\n      <td>4333.33</td>\n      <td>2</td>\n    </tr>\n    <tr>\n      <th>14977</th>\n      <td>4277.44</td>\n      <td>3990.77</td>\n      <td>4246.67</td>\n      <td>4113.85</td>\n      <td>4333.33</td>\n      <td>4615.38</td>\n      <td>4072.82</td>\n      <td>4623.59</td>\n      <td>4193.33</td>\n      <td>4212.82</td>\n      <td>4160.51</td>\n      <td>4257.95</td>\n      <td>4591.79</td>\n      <td>4339.49</td>\n      <td>2</td>\n    </tr>\n    <tr>\n      <th>14978</th>\n      <td>4284.62</td>\n      <td>3991.79</td>\n      <td>4251.28</td>\n      <td>4122.05</td>\n      <td>4334.36</td>\n      <td>4616.41</td>\n      <td>4080.51</td>\n      <td>4628.72</td>\n      <td>4200.00</td>\n      <td>4220.00</td>\n      <td>4165.64</td>\n      <td>4267.18</td>\n      <td>4596.41</td>\n      <td>4350.77</td>\n      <td>2</td>\n    </tr>\n    <tr>\n      <th>14979</th>\n      <td>4287.69</td>\n      <td>3997.44</td>\n      <td>4260.00</td>\n      <td>4121.03</td>\n      <td>4333.33</td>\n      <td>4616.41</td>\n      <td>4088.72</td>\n      <td>4638.46</td>\n      <td>4212.31</td>\n      <td>4226.67</td>\n      <td>4167.69</td>\n      <td>4274.36</td>\n      <td>4597.95</td>\n      <td>4350.77</td>\n      <td>2</td>\n    </tr>\n  </tbody>\n</table>\n</div>"
     },
     "execution_count": 71,
     "metadata": {},
     "output_type": "execute_result"
    }
   ],
   "source": [
    "df.tail(10)"
   ],
   "metadata": {
    "collapsed": false,
    "ExecuteTime": {
     "end_time": "2023-09-26T13:25:38.396120446Z",
     "start_time": "2023-09-26T13:25:38.263447978Z"
    }
   },
   "id": "eae7928214957ef9"
  },
  {
   "cell_type": "code",
   "execution_count": 72,
   "outputs": [
    {
     "data": {
      "text/plain": "            V1       V2       V3       V4       V5       V6       V7       V8  \\\n9278   4286.67  3998.97  4245.64  4120.51  4349.74  4622.56  4058.46  4614.87   \n9468   4294.36  3989.74  4262.05  4109.23  4335.90  4615.38  4059.49  4595.38   \n8884   4291.28  4024.10  4263.08  4112.82  4344.10  4620.51  4056.41  4623.08   \n1769   4291.28  4018.97  4263.08  4106.15  4329.74  4616.41  4081.54  4608.72   \n586    4288.21  4026.15  4249.74  4106.15  4346.15  4615.38  4097.44  4624.10   \n8461   4270.77  3972.31  4231.79  4094.87  4328.21  4609.74  4053.85  4624.10   \n5817   4309.74  4038.97  4269.23  4131.79  4344.10  4629.23  4074.87  4595.38   \n10563  4308.21  3995.90  4265.13  4122.05  4345.13  4634.87  4066.15  4620.51   \n970    4257.95  4002.56  4229.74  4105.13  4335.38  4622.05  4095.90  4591.79   \n11460  4288.21  3989.74  4257.95  4108.72  4347.18  4621.03  4092.31  4602.56   \n\n            V9      V10      V11      V12      V13      V14  Class  \n9278   4209.74  4231.28  4207.69  4271.79  4604.62  4345.64      1  \n9468   4189.23  4223.59  4204.62  4273.33  4598.97  4356.92      1  \n8884   4201.54  4246.67  4201.03  4269.74  4587.69  4352.82      2  \n1769   4202.56  4226.15  4194.36  4275.38  4582.56  4364.10      1  \n586    4216.92  4227.18  4220.00  4285.64  4617.95  4350.77      2  \n8461   4181.54  4222.56  4193.33  4254.87  4576.92  4332.82      2  \n5817   4195.38  4238.46  4205.13  4284.62  4600.00  4366.15      2  \n10563  4205.64  4247.18  4222.05  4289.74  4617.44  4375.90      1  \n970    4184.62  4195.38  4160.00  4243.59  4538.46  4293.85      1  \n11460  4185.64  4225.64  4206.15  4264.62  4588.21  4356.92      2  ",
      "text/html": "<div>\n<style scoped>\n    .dataframe tbody tr th:only-of-type {\n        vertical-align: middle;\n    }\n\n    .dataframe tbody tr th {\n        vertical-align: top;\n    }\n\n    .dataframe thead th {\n        text-align: right;\n    }\n</style>\n<table border=\"1\" class=\"dataframe\">\n  <thead>\n    <tr style=\"text-align: right;\">\n      <th></th>\n      <th>V1</th>\n      <th>V2</th>\n      <th>V3</th>\n      <th>V4</th>\n      <th>V5</th>\n      <th>V6</th>\n      <th>V7</th>\n      <th>V8</th>\n      <th>V9</th>\n      <th>V10</th>\n      <th>V11</th>\n      <th>V12</th>\n      <th>V13</th>\n      <th>V14</th>\n      <th>Class</th>\n    </tr>\n  </thead>\n  <tbody>\n    <tr>\n      <th>9278</th>\n      <td>4286.67</td>\n      <td>3998.97</td>\n      <td>4245.64</td>\n      <td>4120.51</td>\n      <td>4349.74</td>\n      <td>4622.56</td>\n      <td>4058.46</td>\n      <td>4614.87</td>\n      <td>4209.74</td>\n      <td>4231.28</td>\n      <td>4207.69</td>\n      <td>4271.79</td>\n      <td>4604.62</td>\n      <td>4345.64</td>\n      <td>1</td>\n    </tr>\n    <tr>\n      <th>9468</th>\n      <td>4294.36</td>\n      <td>3989.74</td>\n      <td>4262.05</td>\n      <td>4109.23</td>\n      <td>4335.90</td>\n      <td>4615.38</td>\n      <td>4059.49</td>\n      <td>4595.38</td>\n      <td>4189.23</td>\n      <td>4223.59</td>\n      <td>4204.62</td>\n      <td>4273.33</td>\n      <td>4598.97</td>\n      <td>4356.92</td>\n      <td>1</td>\n    </tr>\n    <tr>\n      <th>8884</th>\n      <td>4291.28</td>\n      <td>4024.10</td>\n      <td>4263.08</td>\n      <td>4112.82</td>\n      <td>4344.10</td>\n      <td>4620.51</td>\n      <td>4056.41</td>\n      <td>4623.08</td>\n      <td>4201.54</td>\n      <td>4246.67</td>\n      <td>4201.03</td>\n      <td>4269.74</td>\n      <td>4587.69</td>\n      <td>4352.82</td>\n      <td>2</td>\n    </tr>\n    <tr>\n      <th>1769</th>\n      <td>4291.28</td>\n      <td>4018.97</td>\n      <td>4263.08</td>\n      <td>4106.15</td>\n      <td>4329.74</td>\n      <td>4616.41</td>\n      <td>4081.54</td>\n      <td>4608.72</td>\n      <td>4202.56</td>\n      <td>4226.15</td>\n      <td>4194.36</td>\n      <td>4275.38</td>\n      <td>4582.56</td>\n      <td>4364.10</td>\n      <td>1</td>\n    </tr>\n    <tr>\n      <th>586</th>\n      <td>4288.21</td>\n      <td>4026.15</td>\n      <td>4249.74</td>\n      <td>4106.15</td>\n      <td>4346.15</td>\n      <td>4615.38</td>\n      <td>4097.44</td>\n      <td>4624.10</td>\n      <td>4216.92</td>\n      <td>4227.18</td>\n      <td>4220.00</td>\n      <td>4285.64</td>\n      <td>4617.95</td>\n      <td>4350.77</td>\n      <td>2</td>\n    </tr>\n    <tr>\n      <th>8461</th>\n      <td>4270.77</td>\n      <td>3972.31</td>\n      <td>4231.79</td>\n      <td>4094.87</td>\n      <td>4328.21</td>\n      <td>4609.74</td>\n      <td>4053.85</td>\n      <td>4624.10</td>\n      <td>4181.54</td>\n      <td>4222.56</td>\n      <td>4193.33</td>\n      <td>4254.87</td>\n      <td>4576.92</td>\n      <td>4332.82</td>\n      <td>2</td>\n    </tr>\n    <tr>\n      <th>5817</th>\n      <td>4309.74</td>\n      <td>4038.97</td>\n      <td>4269.23</td>\n      <td>4131.79</td>\n      <td>4344.10</td>\n      <td>4629.23</td>\n      <td>4074.87</td>\n      <td>4595.38</td>\n      <td>4195.38</td>\n      <td>4238.46</td>\n      <td>4205.13</td>\n      <td>4284.62</td>\n      <td>4600.00</td>\n      <td>4366.15</td>\n      <td>2</td>\n    </tr>\n    <tr>\n      <th>10563</th>\n      <td>4308.21</td>\n      <td>3995.90</td>\n      <td>4265.13</td>\n      <td>4122.05</td>\n      <td>4345.13</td>\n      <td>4634.87</td>\n      <td>4066.15</td>\n      <td>4620.51</td>\n      <td>4205.64</td>\n      <td>4247.18</td>\n      <td>4222.05</td>\n      <td>4289.74</td>\n      <td>4617.44</td>\n      <td>4375.90</td>\n      <td>1</td>\n    </tr>\n    <tr>\n      <th>970</th>\n      <td>4257.95</td>\n      <td>4002.56</td>\n      <td>4229.74</td>\n      <td>4105.13</td>\n      <td>4335.38</td>\n      <td>4622.05</td>\n      <td>4095.90</td>\n      <td>4591.79</td>\n      <td>4184.62</td>\n      <td>4195.38</td>\n      <td>4160.00</td>\n      <td>4243.59</td>\n      <td>4538.46</td>\n      <td>4293.85</td>\n      <td>1</td>\n    </tr>\n    <tr>\n      <th>11460</th>\n      <td>4288.21</td>\n      <td>3989.74</td>\n      <td>4257.95</td>\n      <td>4108.72</td>\n      <td>4347.18</td>\n      <td>4621.03</td>\n      <td>4092.31</td>\n      <td>4602.56</td>\n      <td>4185.64</td>\n      <td>4225.64</td>\n      <td>4206.15</td>\n      <td>4264.62</td>\n      <td>4588.21</td>\n      <td>4356.92</td>\n      <td>2</td>\n    </tr>\n  </tbody>\n</table>\n</div>"
     },
     "execution_count": 72,
     "metadata": {},
     "output_type": "execute_result"
    }
   ],
   "source": [
    "df.sample(10)"
   ],
   "metadata": {
    "collapsed": false,
    "ExecuteTime": {
     "end_time": "2023-09-26T13:25:38.397000808Z",
     "start_time": "2023-09-26T13:25:38.305496575Z"
    }
   },
   "id": "470da2872cbeffd3"
  },
  {
   "cell_type": "code",
   "execution_count": 73,
   "outputs": [
    {
     "data": {
      "text/plain": "(14980, 15)"
     },
     "execution_count": 73,
     "metadata": {},
     "output_type": "execute_result"
    }
   ],
   "source": [
    "df.shape"
   ],
   "metadata": {
    "collapsed": false,
    "ExecuteTime": {
     "end_time": "2023-09-26T13:25:38.397315955Z",
     "start_time": "2023-09-26T13:25:38.305777405Z"
    }
   },
   "id": "9898b698f4792f96"
  },
  {
   "cell_type": "code",
   "execution_count": 74,
   "outputs": [
    {
     "data": {
      "text/plain": "Index(['V1', 'V2', 'V3', 'V4', 'V5', 'V6', 'V7', 'V8', 'V9', 'V10', 'V11',\n       'V12', 'V13', 'V14', 'Class'],\n      dtype='object')"
     },
     "execution_count": 74,
     "metadata": {},
     "output_type": "execute_result"
    }
   ],
   "source": [
    "df.columns"
   ],
   "metadata": {
    "collapsed": false,
    "ExecuteTime": {
     "end_time": "2023-09-26T13:25:38.397549893Z",
     "start_time": "2023-09-26T13:25:38.305912462Z"
    }
   },
   "id": "8484b510ea576d95"
  },
  {
   "cell_type": "code",
   "execution_count": 75,
   "outputs": [
    {
     "data": {
      "text/plain": "V1       float64\nV2       float64\nV3       float64\nV4       float64\nV5       float64\nV6       float64\nV7       float64\nV8       float64\nV9       float64\nV10      float64\nV11      float64\nV12      float64\nV13      float64\nV14      float64\nClass      int64\ndtype: object"
     },
     "execution_count": 75,
     "metadata": {},
     "output_type": "execute_result"
    }
   ],
   "source": [
    "df.dtypes"
   ],
   "metadata": {
    "collapsed": false,
    "ExecuteTime": {
     "end_time": "2023-09-26T13:25:38.397803372Z",
     "start_time": "2023-09-26T13:25:38.306032840Z"
    }
   },
   "id": "b3c0472dea536771"
  },
  {
   "cell_type": "code",
   "execution_count": 76,
   "outputs": [
    {
     "name": "stdout",
     "output_type": "stream",
     "text": [
      "<class 'pandas.core.frame.DataFrame'>\n",
      "RangeIndex: 14980 entries, 0 to 14979\n",
      "Data columns (total 15 columns):\n",
      " #   Column  Non-Null Count  Dtype  \n",
      "---  ------  --------------  -----  \n",
      " 0   V1      14980 non-null  float64\n",
      " 1   V2      14980 non-null  float64\n",
      " 2   V3      14980 non-null  float64\n",
      " 3   V4      14980 non-null  float64\n",
      " 4   V5      14980 non-null  float64\n",
      " 5   V6      14980 non-null  float64\n",
      " 6   V7      14980 non-null  float64\n",
      " 7   V8      14980 non-null  float64\n",
      " 8   V9      14980 non-null  float64\n",
      " 9   V10     14980 non-null  float64\n",
      " 10  V11     14980 non-null  float64\n",
      " 11  V12     14980 non-null  float64\n",
      " 12  V13     14980 non-null  float64\n",
      " 13  V14     14980 non-null  float64\n",
      " 14  Class   14980 non-null  int64  \n",
      "dtypes: float64(14), int64(1)\n",
      "memory usage: 1.7 MB\n"
     ]
    }
   ],
   "source": [
    "df.info()"
   ],
   "metadata": {
    "collapsed": false,
    "ExecuteTime": {
     "end_time": "2023-09-26T13:25:38.413635890Z",
     "start_time": "2023-09-26T13:25:38.347417036Z"
    }
   },
   "id": "16929d17d31b70fa"
  },
  {
   "cell_type": "code",
   "execution_count": 77,
   "outputs": [
    {
     "data": {
      "text/plain": "V1       0\nV2       0\nV3       0\nV4       0\nV5       0\nV6       0\nV7       0\nV8       0\nV9       0\nV10      0\nV11      0\nV12      0\nV13      0\nV14      0\nClass    0\ndtype: int64"
     },
     "execution_count": 77,
     "metadata": {},
     "output_type": "execute_result"
    }
   ],
   "source": [
    "df.isnull().sum()"
   ],
   "metadata": {
    "collapsed": false,
    "ExecuteTime": {
     "end_time": "2023-09-26T13:25:38.414129081Z",
     "start_time": "2023-09-26T13:25:38.347706505Z"
    }
   },
   "id": "7438c688f5eb7866"
  },
  {
   "cell_type": "code",
   "execution_count": 78,
   "outputs": [
    {
     "data": {
      "text/plain": "                  V1            V2            V3             V4            V5  \\\ncount   14980.000000  14980.000000  14980.000000   14980.000000  14980.000000   \nmean     4321.917777   4009.767694   4264.022433    4164.946326   4341.741075   \nstd      2492.072174     45.941672     44.428052    5216.404632     34.738821   \nmin      1030.770000   2830.770000   1040.000000    2453.330000   2089.740000   \n25%      4280.510000   3990.770000   4250.260000    4108.210000   4331.790000   \n50%      4294.360000   4005.640000   4262.560000    4120.510000   4338.970000   \n75%      4311.790000   4023.080000   4270.770000    4132.310000   4347.180000   \nmax    309231.000000   7804.620000   6880.510000  642564.000000   6474.360000   \n\n                  V6             V7            V8             V9  \\\ncount   14980.000000   14980.000000  14980.000000   14980.000000   \nmean     4644.022379    4110.400160   4616.056904    4218.826610   \nstd      2924.789537    4600.926543     29.292603    2136.408523   \nmin      2768.210000    2086.150000   4567.180000    1357.950000   \n25%      4611.790000    4057.950000   4604.620000    4190.770000   \n50%      4617.950000    4070.260000   4613.330000    4199.490000   \n75%      4626.670000    4083.590000   4624.100000    4209.230000   \nmax    362564.000000  567179.000000   7264.100000  265641.000000   \n\n                V10           V11           V12            V13            V14  \\\ncount  14980.000000  14980.000000  14980.000000   14980.000000   14980.000000   \nmean    4231.316200   4202.456900   4279.232774    4615.205336    4416.435832   \nstd       38.050903     37.785981     41.544312    1208.369958    5891.285043   \nmin     1816.410000   3273.330000   2257.950000      86.666700    1366.150000   \n25%     4220.510000   4190.260000   4267.690000    4590.770000    4342.050000   \n50%     4229.230000   4200.510000   4276.920000    4603.080000    4354.870000   \n75%     4239.490000   4211.280000   4287.180000    4617.440000    4372.820000   \nmax     6674.360000   6823.080000   7002.560000  152308.000000  715897.000000   \n\n              Class  \ncount  14980.000000  \nmean       1.448798  \nstd        0.497388  \nmin        1.000000  \n25%        1.000000  \n50%        1.000000  \n75%        2.000000  \nmax        2.000000  ",
      "text/html": "<div>\n<style scoped>\n    .dataframe tbody tr th:only-of-type {\n        vertical-align: middle;\n    }\n\n    .dataframe tbody tr th {\n        vertical-align: top;\n    }\n\n    .dataframe thead th {\n        text-align: right;\n    }\n</style>\n<table border=\"1\" class=\"dataframe\">\n  <thead>\n    <tr style=\"text-align: right;\">\n      <th></th>\n      <th>V1</th>\n      <th>V2</th>\n      <th>V3</th>\n      <th>V4</th>\n      <th>V5</th>\n      <th>V6</th>\n      <th>V7</th>\n      <th>V8</th>\n      <th>V9</th>\n      <th>V10</th>\n      <th>V11</th>\n      <th>V12</th>\n      <th>V13</th>\n      <th>V14</th>\n      <th>Class</th>\n    </tr>\n  </thead>\n  <tbody>\n    <tr>\n      <th>count</th>\n      <td>14980.000000</td>\n      <td>14980.000000</td>\n      <td>14980.000000</td>\n      <td>14980.000000</td>\n      <td>14980.000000</td>\n      <td>14980.000000</td>\n      <td>14980.000000</td>\n      <td>14980.000000</td>\n      <td>14980.000000</td>\n      <td>14980.000000</td>\n      <td>14980.000000</td>\n      <td>14980.000000</td>\n      <td>14980.000000</td>\n      <td>14980.000000</td>\n      <td>14980.000000</td>\n    </tr>\n    <tr>\n      <th>mean</th>\n      <td>4321.917777</td>\n      <td>4009.767694</td>\n      <td>4264.022433</td>\n      <td>4164.946326</td>\n      <td>4341.741075</td>\n      <td>4644.022379</td>\n      <td>4110.400160</td>\n      <td>4616.056904</td>\n      <td>4218.826610</td>\n      <td>4231.316200</td>\n      <td>4202.456900</td>\n      <td>4279.232774</td>\n      <td>4615.205336</td>\n      <td>4416.435832</td>\n      <td>1.448798</td>\n    </tr>\n    <tr>\n      <th>std</th>\n      <td>2492.072174</td>\n      <td>45.941672</td>\n      <td>44.428052</td>\n      <td>5216.404632</td>\n      <td>34.738821</td>\n      <td>2924.789537</td>\n      <td>4600.926543</td>\n      <td>29.292603</td>\n      <td>2136.408523</td>\n      <td>38.050903</td>\n      <td>37.785981</td>\n      <td>41.544312</td>\n      <td>1208.369958</td>\n      <td>5891.285043</td>\n      <td>0.497388</td>\n    </tr>\n    <tr>\n      <th>min</th>\n      <td>1030.770000</td>\n      <td>2830.770000</td>\n      <td>1040.000000</td>\n      <td>2453.330000</td>\n      <td>2089.740000</td>\n      <td>2768.210000</td>\n      <td>2086.150000</td>\n      <td>4567.180000</td>\n      <td>1357.950000</td>\n      <td>1816.410000</td>\n      <td>3273.330000</td>\n      <td>2257.950000</td>\n      <td>86.666700</td>\n      <td>1366.150000</td>\n      <td>1.000000</td>\n    </tr>\n    <tr>\n      <th>25%</th>\n      <td>4280.510000</td>\n      <td>3990.770000</td>\n      <td>4250.260000</td>\n      <td>4108.210000</td>\n      <td>4331.790000</td>\n      <td>4611.790000</td>\n      <td>4057.950000</td>\n      <td>4604.620000</td>\n      <td>4190.770000</td>\n      <td>4220.510000</td>\n      <td>4190.260000</td>\n      <td>4267.690000</td>\n      <td>4590.770000</td>\n      <td>4342.050000</td>\n      <td>1.000000</td>\n    </tr>\n    <tr>\n      <th>50%</th>\n      <td>4294.360000</td>\n      <td>4005.640000</td>\n      <td>4262.560000</td>\n      <td>4120.510000</td>\n      <td>4338.970000</td>\n      <td>4617.950000</td>\n      <td>4070.260000</td>\n      <td>4613.330000</td>\n      <td>4199.490000</td>\n      <td>4229.230000</td>\n      <td>4200.510000</td>\n      <td>4276.920000</td>\n      <td>4603.080000</td>\n      <td>4354.870000</td>\n      <td>1.000000</td>\n    </tr>\n    <tr>\n      <th>75%</th>\n      <td>4311.790000</td>\n      <td>4023.080000</td>\n      <td>4270.770000</td>\n      <td>4132.310000</td>\n      <td>4347.180000</td>\n      <td>4626.670000</td>\n      <td>4083.590000</td>\n      <td>4624.100000</td>\n      <td>4209.230000</td>\n      <td>4239.490000</td>\n      <td>4211.280000</td>\n      <td>4287.180000</td>\n      <td>4617.440000</td>\n      <td>4372.820000</td>\n      <td>2.000000</td>\n    </tr>\n    <tr>\n      <th>max</th>\n      <td>309231.000000</td>\n      <td>7804.620000</td>\n      <td>6880.510000</td>\n      <td>642564.000000</td>\n      <td>6474.360000</td>\n      <td>362564.000000</td>\n      <td>567179.000000</td>\n      <td>7264.100000</td>\n      <td>265641.000000</td>\n      <td>6674.360000</td>\n      <td>6823.080000</td>\n      <td>7002.560000</td>\n      <td>152308.000000</td>\n      <td>715897.000000</td>\n      <td>2.000000</td>\n    </tr>\n  </tbody>\n</table>\n</div>"
     },
     "execution_count": 78,
     "metadata": {},
     "output_type": "execute_result"
    }
   ],
   "source": [
    "df.describe()"
   ],
   "metadata": {
    "collapsed": false,
    "ExecuteTime": {
     "end_time": "2023-09-26T13:25:38.414998836Z",
     "start_time": "2023-09-26T13:25:38.347864554Z"
    }
   },
   "id": "d19e1fa9ca789ec7"
  },
  {
   "cell_type": "code",
   "execution_count": 79,
   "outputs": [
    {
     "data": {
      "text/plain": "                  V1            V2            V3             V4            V5  \\\ncount   14980.000000  14980.000000  14980.000000   14980.000000  14980.000000   \nmean     4321.917777   4009.767694   4264.022433    4164.946326   4341.741075   \nstd      2492.072174     45.941672     44.428052    5216.404632     34.738821   \nmin      1030.770000   2830.770000   1040.000000    2453.330000   2089.740000   \n25%      4280.510000   3990.770000   4250.260000    4108.210000   4331.790000   \n50%      4294.360000   4005.640000   4262.560000    4120.510000   4338.970000   \n75%      4311.790000   4023.080000   4270.770000    4132.310000   4347.180000   \nmax    309231.000000   7804.620000   6880.510000  642564.000000   6474.360000   \n\n                  V6             V7            V8             V9  \\\ncount   14980.000000   14980.000000  14980.000000   14980.000000   \nmean     4644.022379    4110.400160   4616.056904    4218.826610   \nstd      2924.789537    4600.926543     29.292603    2136.408523   \nmin      2768.210000    2086.150000   4567.180000    1357.950000   \n25%      4611.790000    4057.950000   4604.620000    4190.770000   \n50%      4617.950000    4070.260000   4613.330000    4199.490000   \n75%      4626.670000    4083.590000   4624.100000    4209.230000   \nmax    362564.000000  567179.000000   7264.100000  265641.000000   \n\n                V10           V11           V12            V13            V14  \\\ncount  14980.000000  14980.000000  14980.000000   14980.000000   14980.000000   \nmean    4231.316200   4202.456900   4279.232774    4615.205336    4416.435832   \nstd       38.050903     37.785981     41.544312    1208.369958    5891.285043   \nmin     1816.410000   3273.330000   2257.950000      86.666700    1366.150000   \n25%     4220.510000   4190.260000   4267.690000    4590.770000    4342.050000   \n50%     4229.230000   4200.510000   4276.920000    4603.080000    4354.870000   \n75%     4239.490000   4211.280000   4287.180000    4617.440000    4372.820000   \nmax     6674.360000   6823.080000   7002.560000  152308.000000  715897.000000   \n\n              Class  \ncount  14980.000000  \nmean       1.448798  \nstd        0.497388  \nmin        1.000000  \n25%        1.000000  \n50%        1.000000  \n75%        2.000000  \nmax        2.000000  ",
      "text/html": "<div>\n<style scoped>\n    .dataframe tbody tr th:only-of-type {\n        vertical-align: middle;\n    }\n\n    .dataframe tbody tr th {\n        vertical-align: top;\n    }\n\n    .dataframe thead th {\n        text-align: right;\n    }\n</style>\n<table border=\"1\" class=\"dataframe\">\n  <thead>\n    <tr style=\"text-align: right;\">\n      <th></th>\n      <th>V1</th>\n      <th>V2</th>\n      <th>V3</th>\n      <th>V4</th>\n      <th>V5</th>\n      <th>V6</th>\n      <th>V7</th>\n      <th>V8</th>\n      <th>V9</th>\n      <th>V10</th>\n      <th>V11</th>\n      <th>V12</th>\n      <th>V13</th>\n      <th>V14</th>\n      <th>Class</th>\n    </tr>\n  </thead>\n  <tbody>\n    <tr>\n      <th>count</th>\n      <td>14980.000000</td>\n      <td>14980.000000</td>\n      <td>14980.000000</td>\n      <td>14980.000000</td>\n      <td>14980.000000</td>\n      <td>14980.000000</td>\n      <td>14980.000000</td>\n      <td>14980.000000</td>\n      <td>14980.000000</td>\n      <td>14980.000000</td>\n      <td>14980.000000</td>\n      <td>14980.000000</td>\n      <td>14980.000000</td>\n      <td>14980.000000</td>\n      <td>14980.000000</td>\n    </tr>\n    <tr>\n      <th>mean</th>\n      <td>4321.917777</td>\n      <td>4009.767694</td>\n      <td>4264.022433</td>\n      <td>4164.946326</td>\n      <td>4341.741075</td>\n      <td>4644.022379</td>\n      <td>4110.400160</td>\n      <td>4616.056904</td>\n      <td>4218.826610</td>\n      <td>4231.316200</td>\n      <td>4202.456900</td>\n      <td>4279.232774</td>\n      <td>4615.205336</td>\n      <td>4416.435832</td>\n      <td>1.448798</td>\n    </tr>\n    <tr>\n      <th>std</th>\n      <td>2492.072174</td>\n      <td>45.941672</td>\n      <td>44.428052</td>\n      <td>5216.404632</td>\n      <td>34.738821</td>\n      <td>2924.789537</td>\n      <td>4600.926543</td>\n      <td>29.292603</td>\n      <td>2136.408523</td>\n      <td>38.050903</td>\n      <td>37.785981</td>\n      <td>41.544312</td>\n      <td>1208.369958</td>\n      <td>5891.285043</td>\n      <td>0.497388</td>\n    </tr>\n    <tr>\n      <th>min</th>\n      <td>1030.770000</td>\n      <td>2830.770000</td>\n      <td>1040.000000</td>\n      <td>2453.330000</td>\n      <td>2089.740000</td>\n      <td>2768.210000</td>\n      <td>2086.150000</td>\n      <td>4567.180000</td>\n      <td>1357.950000</td>\n      <td>1816.410000</td>\n      <td>3273.330000</td>\n      <td>2257.950000</td>\n      <td>86.666700</td>\n      <td>1366.150000</td>\n      <td>1.000000</td>\n    </tr>\n    <tr>\n      <th>25%</th>\n      <td>4280.510000</td>\n      <td>3990.770000</td>\n      <td>4250.260000</td>\n      <td>4108.210000</td>\n      <td>4331.790000</td>\n      <td>4611.790000</td>\n      <td>4057.950000</td>\n      <td>4604.620000</td>\n      <td>4190.770000</td>\n      <td>4220.510000</td>\n      <td>4190.260000</td>\n      <td>4267.690000</td>\n      <td>4590.770000</td>\n      <td>4342.050000</td>\n      <td>1.000000</td>\n    </tr>\n    <tr>\n      <th>50%</th>\n      <td>4294.360000</td>\n      <td>4005.640000</td>\n      <td>4262.560000</td>\n      <td>4120.510000</td>\n      <td>4338.970000</td>\n      <td>4617.950000</td>\n      <td>4070.260000</td>\n      <td>4613.330000</td>\n      <td>4199.490000</td>\n      <td>4229.230000</td>\n      <td>4200.510000</td>\n      <td>4276.920000</td>\n      <td>4603.080000</td>\n      <td>4354.870000</td>\n      <td>1.000000</td>\n    </tr>\n    <tr>\n      <th>75%</th>\n      <td>4311.790000</td>\n      <td>4023.080000</td>\n      <td>4270.770000</td>\n      <td>4132.310000</td>\n      <td>4347.180000</td>\n      <td>4626.670000</td>\n      <td>4083.590000</td>\n      <td>4624.100000</td>\n      <td>4209.230000</td>\n      <td>4239.490000</td>\n      <td>4211.280000</td>\n      <td>4287.180000</td>\n      <td>4617.440000</td>\n      <td>4372.820000</td>\n      <td>2.000000</td>\n    </tr>\n    <tr>\n      <th>max</th>\n      <td>309231.000000</td>\n      <td>7804.620000</td>\n      <td>6880.510000</td>\n      <td>642564.000000</td>\n      <td>6474.360000</td>\n      <td>362564.000000</td>\n      <td>567179.000000</td>\n      <td>7264.100000</td>\n      <td>265641.000000</td>\n      <td>6674.360000</td>\n      <td>6823.080000</td>\n      <td>7002.560000</td>\n      <td>152308.000000</td>\n      <td>715897.000000</td>\n      <td>2.000000</td>\n    </tr>\n  </tbody>\n</table>\n</div>"
     },
     "execution_count": 79,
     "metadata": {},
     "output_type": "execute_result"
    }
   ],
   "source": [
    "df.describe(include='all')"
   ],
   "metadata": {
    "collapsed": false,
    "ExecuteTime": {
     "end_time": "2023-09-26T13:25:38.662626514Z",
     "start_time": "2023-09-26T13:25:38.382102024Z"
    }
   },
   "id": "ecfee79ff36d29b4"
  },
  {
   "cell_type": "code",
   "execution_count": 79,
   "outputs": [],
   "source": [],
   "metadata": {
    "collapsed": false,
    "ExecuteTime": {
     "end_time": "2023-09-26T13:25:38.662808834Z",
     "start_time": "2023-09-26T13:25:38.463532869Z"
    }
   },
   "id": "a3d7a49047a17c7b"
  }
 ],
 "metadata": {
  "kernelspec": {
   "display_name": "Python 3",
   "language": "python",
   "name": "python3"
  },
  "language_info": {
   "codemirror_mode": {
    "name": "ipython",
    "version": 2
   },
   "file_extension": ".py",
   "mimetype": "text/x-python",
   "name": "python",
   "nbconvert_exporter": "python",
   "pygments_lexer": "ipython2",
   "version": "2.7.6"
  }
 },
 "nbformat": 4,
 "nbformat_minor": 5
}
