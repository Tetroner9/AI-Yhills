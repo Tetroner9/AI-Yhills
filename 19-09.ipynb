{
 "cells": [
  {
   "cell_type": "markdown",
   "id": "45c5a130-86ba-4ca2-8e09-28955b79e563",
   "metadata": {},
   "source": [
    "## List"
   ]
  },
  {
   "cell_type": "code",
   "execution_count": 5,
   "id": "1bcfc700-d151-417a-a487-ccbb8776947b",
   "metadata": {},
   "outputs": [],
   "source": [
    "list_1 = [1,2,3,4]\n",
    "list_2 = [5,6,7,8]"
   ]
  },
  {
   "cell_type": "code",
   "execution_count": 7,
   "id": "28f440b4-3bb8-4736-9dac-ebf9a92730f2",
   "metadata": {},
   "outputs": [
    {
     "data": {
      "text/plain": [
       "[1, 2, 3, 4, 5, 6, 7, 8]"
      ]
     },
     "execution_count": 7,
     "metadata": {},
     "output_type": "execute_result"
    }
   ],
   "source": [
    "list_3 = list_1 + list_2\n",
    "list_3"
   ]
  },
  {
   "cell_type": "code",
   "execution_count": 8,
   "id": "6288dd6a-61d8-4765-8f8b-b98ef2d7aa93",
   "metadata": {},
   "outputs": [
    {
     "data": {
      "text/plain": [
       "[8, 7, 6, 5, 4, 3, 2, 1]"
      ]
     },
     "execution_count": 8,
     "metadata": {},
     "output_type": "execute_result"
    }
   ],
   "source": [
    "list_3.sort(reverse = True)\n",
    "list_3"
   ]
  },
  {
   "cell_type": "code",
   "execution_count": 9,
   "id": "5322d3f8-cb94-4d36-aefa-a44e0593e555",
   "metadata": {},
   "outputs": [
    {
     "data": {
      "text/plain": [
       "[1, 2, 3, 4, 5, 6, 7, 8]"
      ]
     },
     "execution_count": 9,
     "metadata": {},
     "output_type": "execute_result"
    }
   ],
   "source": [
    "list_3.sort()\n",
    "list_3"
   ]
  },
  {
   "cell_type": "markdown",
   "id": "52b5ea24-2cdc-44e3-b662-95b3da41aa14",
   "metadata": {},
   "source": [
    "## Tuples"
   ]
  },
  {
   "cell_type": "code",
   "execution_count": 11,
   "id": "5db7a7e5-15b6-45ba-ad44-0ed9bed1ea6a",
   "metadata": {},
   "outputs": [
    {
     "data": {
      "text/plain": [
       "(1, 6, 7, 4, 'hi')"
      ]
     },
     "execution_count": 11,
     "metadata": {},
     "output_type": "execute_result"
    }
   ],
   "source": [
    "sample_tuple = (1,6,7,4,'hi')\n",
    "sample_tuple"
   ]
  },
  {
   "cell_type": "code",
   "execution_count": 12,
   "id": "4a15fefc-08db-4a3d-b0cc-88d50a7b42b0",
   "metadata": {},
   "outputs": [
    {
     "data": {
      "text/plain": [
       "tuple"
      ]
     },
     "execution_count": 12,
     "metadata": {},
     "output_type": "execute_result"
    }
   ],
   "source": [
    "type(sample_tuple)"
   ]
  },
  {
   "cell_type": "code",
   "execution_count": 13,
   "id": "1fe80fd5-92f8-468c-9739-505e5968da95",
   "metadata": {},
   "outputs": [
    {
     "data": {
      "text/plain": [
       "(3, 21, 52, 6, 42, 1, 'hello')"
      ]
     },
     "execution_count": 13,
     "metadata": {},
     "output_type": "execute_result"
    }
   ],
   "source": [
    "sample_tuple2 = 3,21,52,6,42,1,'hello'\n",
    "sample_tuple2"
   ]
  },
  {
   "cell_type": "code",
   "execution_count": 14,
   "id": "9c6d9140-152f-44a2-b4a7-89b3e314aa15",
   "metadata": {},
   "outputs": [
    {
     "data": {
      "text/plain": [
       "tuple"
      ]
     },
     "execution_count": 14,
     "metadata": {},
     "output_type": "execute_result"
    }
   ],
   "source": [
    "type(sample_tuple2)"
   ]
  },
  {
   "cell_type": "code",
   "execution_count": 15,
   "id": "bd5d9761-e170-4830-ba39-d838458fad58",
   "metadata": {},
   "outputs": [
    {
     "data": {
      "text/plain": [
       "7"
      ]
     },
     "execution_count": 15,
     "metadata": {},
     "output_type": "execute_result"
    }
   ],
   "source": [
    "sample_tuple[2]"
   ]
  },
  {
   "cell_type": "code",
   "execution_count": 16,
   "id": "9716b80b-f763-4a6a-8189-822ad2d92098",
   "metadata": {},
   "outputs": [
    {
     "ename": "AttributeError",
     "evalue": "'tuple' object has no attribute 'sort'",
     "output_type": "error",
     "traceback": [
      "\u001b[0;31m---------------------------------------------------------------------------\u001b[0m",
      "\u001b[0;31mAttributeError\u001b[0m                            Traceback (most recent call last)",
      "Cell \u001b[0;32mIn[16], line 1\u001b[0m\n\u001b[0;32m----> 1\u001b[0m \u001b[43msample_tuple\u001b[49m\u001b[38;5;241;43m.\u001b[39;49m\u001b[43msort\u001b[49m()\n",
      "\u001b[0;31mAttributeError\u001b[0m: 'tuple' object has no attribute 'sort'"
     ]
    }
   ],
   "source": [
    "sample_tuple.sort()"
   ]
  },
  {
   "cell_type": "code",
   "execution_count": 20,
   "id": "cac86aa4-f6fa-40ba-bbe7-06013584d582",
   "metadata": {},
   "outputs": [
    {
     "name": "stdout",
     "output_type": "stream",
     "text": [
      "<class 'list'>\n"
     ]
    }
   ],
   "source": [
    "tuple2list = list(sample_tuple)\n",
    "print(type(tuple2list))"
   ]
  },
  {
   "cell_type": "markdown",
   "id": "bcf3ed8d-8f09-48f1-9fae-bea2cd31de11",
   "metadata": {},
   "source": [
    "## Dictionary"
   ]
  },
  {
   "cell_type": "code",
   "execution_count": 35,
   "id": "20a94058-aca0-42c5-ac60-a32bb3351b08",
   "metadata": {},
   "outputs": [
    {
     "data": {
      "text/plain": [
       "{'hobbies': ['Reading', 'Gaming', 'Cooking'], 'age': 28, 'name': 'Om Kadam'}"
      ]
     },
     "execution_count": 35,
     "metadata": {},
     "output_type": "execute_result"
    }
   ],
   "source": [
    "sample_dict = {\n",
    "    \"hobbies\": [\"Reading\", \"Gaming\", \"Cooking\"],\n",
    "    \"age\": 28,\n",
    "    \"name\": 'Om Kadam'\n",
    "}\n",
    "sample_dict"
   ]
  },
  {
   "cell_type": "code",
   "execution_count": 23,
   "id": "771c4208-6197-47ae-85c0-396237d8e9e9",
   "metadata": {},
   "outputs": [
    {
     "data": {
      "text/plain": [
       "dict_keys(['hobbies', 'age', 'name'])"
      ]
     },
     "execution_count": 23,
     "metadata": {},
     "output_type": "execute_result"
    }
   ],
   "source": [
    "sample_dict.keys()"
   ]
  },
  {
   "cell_type": "code",
   "execution_count": 26,
   "id": "86a65a9e-0d1a-4d3e-bb6f-edd0a73897ef",
   "metadata": {},
   "outputs": [
    {
     "data": {
      "text/plain": [
       "dict"
      ]
     },
     "execution_count": 26,
     "metadata": {},
     "output_type": "execute_result"
    }
   ],
   "source": [
    "type(sample_dict)"
   ]
  },
  {
   "cell_type": "code",
   "execution_count": 28,
   "id": "7db30ab4-d4d8-4264-9eae-2eca6955ce87",
   "metadata": {},
   "outputs": [
    {
     "data": {
      "text/plain": [
       "{'Alice': {'hobby': 'Painting', 'age': 30},\n",
       " 'Bob': {'hobby': 'Cooking', 'age': 25},\n",
       " 'Charlie': {'hobby': 'Gardening', 'age': 35}}"
      ]
     },
     "execution_count": 28,
     "metadata": {},
     "output_type": "execute_result"
    }
   ],
   "source": [
    "people = {\n",
    "    \"Alice\": {\n",
    "        \"hobby\": \"Painting\",\n",
    "        \"age\": 30\n",
    "    },\n",
    "    \"Bob\": {\n",
    "        \"hobby\": \"Cooking\",\n",
    "        \"age\": 25\n",
    "    },\n",
    "    \"Charlie\": {\n",
    "        \"hobby\": \"Gardening\",\n",
    "        \"age\": 35\n",
    "    }\n",
    "}\n",
    "people"
   ]
  },
  {
   "cell_type": "code",
   "execution_count": 29,
   "id": "e1ed473e-33bc-4b12-84b7-2c23e8b9fda1",
   "metadata": {},
   "outputs": [
    {
     "data": {
      "text/plain": [
       "dict"
      ]
     },
     "execution_count": 29,
     "metadata": {},
     "output_type": "execute_result"
    }
   ],
   "source": [
    "type(people)"
   ]
  },
  {
   "cell_type": "code",
   "execution_count": 30,
   "id": "c69bdd70-2fa8-44de-8c72-bb4b91f53939",
   "metadata": {},
   "outputs": [
    {
     "data": {
      "text/plain": [
       "dict_values([['Reading', 'Gaming', 'Cooking'], 28, 'Om Kadam'])"
      ]
     },
     "execution_count": 30,
     "metadata": {},
     "output_type": "execute_result"
    }
   ],
   "source": [
    "sample_dict.values()"
   ]
  },
  {
   "cell_type": "code",
   "execution_count": 36,
   "id": "069597a5-6b20-4b59-bf39-10c68a7dab84",
   "metadata": {},
   "outputs": [
    {
     "data": {
      "text/plain": [
       "{'hobbies': ['Reading', 'Gaming', 'Cooking'], 'age': 28, 'name': 'Kadam Om'}"
      ]
     },
     "execution_count": 36,
     "metadata": {},
     "output_type": "execute_result"
    }
   ],
   "source": [
    "sample_dict['name'] = 'Kadam Om'\n",
    "sample_dict"
   ]
  },
  {
   "cell_type": "code",
   "execution_count": 37,
   "id": "025fd507-0c76-4d9b-a6a9-4047a930e71c",
   "metadata": {},
   "outputs": [
    {
     "data": {
      "text/plain": [
       "{'hobbies': ['Reading', 'Gaming', 'Cooking'], 'age': 28}"
      ]
     },
     "execution_count": 37,
     "metadata": {},
     "output_type": "execute_result"
    }
   ],
   "source": [
    "del sample_dict['name']\n",
    "sample_dict"
   ]
  },
  {
   "cell_type": "code",
   "execution_count": 39,
   "id": "0bea47b4-ba2e-4ed0-b969-041ea7abf976",
   "metadata": {},
   "outputs": [
    {
     "data": {
      "text/plain": [
       "{'hobbies': ['Reading', 'Gaming', 'Cooking'], 'age': 28, 'class': 'A'}"
      ]
     },
     "execution_count": 39,
     "metadata": {},
     "output_type": "execute_result"
    }
   ],
   "source": [
    "sample_dict.update({'class': 'A'})\n",
    "sample_dict"
   ]
  },
  {
   "cell_type": "markdown",
   "id": "af6d4f8f-fe3c-4165-ae46-396b0bf5ed0f",
   "metadata": {},
   "source": [
    "## Set"
   ]
  },
  {
   "cell_type": "code",
   "execution_count": 40,
   "id": "2d22858b-47b4-4b65-857d-95072fbb5431",
   "metadata": {},
   "outputs": [
    {
     "data": {
      "text/plain": [
       "{-2, -3.14, 5, 7.5, 'Hello', 'World'}"
      ]
     },
     "execution_count": 40,
     "metadata": {},
     "output_type": "execute_result"
    }
   ],
   "source": [
    "sample_set = {5, -3.14, \"Hello\", -2, 7.5, \"World\"}\n",
    "sample_set"
   ]
  },
  {
   "cell_type": "code",
   "execution_count": 41,
   "id": "188f9ea4-097c-4b53-990f-2e004106e0ef",
   "metadata": {},
   "outputs": [
    {
     "data": {
      "text/plain": [
       "{-2, -3.14, 7.5, 'Hello', 'World'}"
      ]
     },
     "execution_count": 41,
     "metadata": {},
     "output_type": "execute_result"
    }
   ],
   "source": [
    "sample_set.remove(5)\n",
    "sample_set"
   ]
  },
  {
   "cell_type": "code",
   "execution_count": null,
   "id": "f3cf560f-844a-4711-ac11-91b024f5caad",
   "metadata": {},
   "outputs": [],
   "source": []
  }
 ],
 "metadata": {
  "kernelspec": {
   "display_name": "Python 3 (ipykernel)",
   "language": "python",
   "name": "python3"
  },
  "language_info": {
   "codemirror_mode": {
    "name": "ipython",
    "version": 3
   },
   "file_extension": ".py",
   "mimetype": "text/x-python",
   "name": "python",
   "nbconvert_exporter": "python",
   "pygments_lexer": "ipython3",
   "version": "3.11.5"
  }
 },
 "nbformat": 4,
 "nbformat_minor": 5
}
